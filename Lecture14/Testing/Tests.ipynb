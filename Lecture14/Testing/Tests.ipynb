{
 "cells": [
  {
   "cell_type": "markdown",
   "metadata": {},
   "source": [
    "# Preparation"
   ]
  },
  {
   "cell_type": "markdown",
   "metadata": {},
   "source": [
    "- xUnit\n",
    "- nUnit\n",
    "- MSTest"
   ]
  },
  {
   "cell_type": "code",
   "execution_count": null,
   "metadata": {
    "dotnet_interactive": {
     "language": "mermaid"
    },
    "polyglot_notebook": {
     "kernelName": "mermaid"
    }
   },
   "outputs": [
    {
     "data": {
      "text/html": [
       "<div class=\"mermaidMarkdownContainer\" style=\"background-color:white\">\r\n",
       "<link rel=\"stylesheet\" href=\"https://cdnjs.cloudflare.com/ajax/libs/font-awesome/6.2.0/css/all.min.css\">\r\n",
       "<div id=\"e2d833875cf5449d8f7a5d5f61f3504a\"></div>\r\n",
       "<script type=\"module\">\r\n",
       "\r\n",
       "            import mermaid from 'https://cdn.jsdelivr.net/npm/mermaid@10.6.1/dist/mermaid.esm.min.mjs';\r\n",
       "            let renderTarget = document.getElementById('e2d833875cf5449d8f7a5d5f61f3504a');\r\n",
       "            try {\r\n",
       "                const {svg, bindFunctions} = await mermaid.mermaidAPI.render( \r\n",
       "                    'mermaid_e2d833875cf5449d8f7a5d5f61f3504a', \r\n",
       "                    `mindmap\n",
       "  root(Testing)\n",
       "    Test frameworks\n",
       "      MSTest\n",
       "      xUnit\n",
       "      nUnit\n",
       "    Mocking\n",
       "      Moq\n",
       "      xUnit Mock\n",
       "      JustMock\n",
       "      FakeItEasy\n",
       "      NSubstitute\n",
       "      Rhino Mocks\n",
       "      Self-made\n",
       "    Coverage\n",
       "      coverage-gutters\n",
       "      coverlet.msbuild`);\r\n",
       "                renderTarget.innerHTML = svg;\r\n",
       "                bindFunctions?.(renderTarget);\r\n",
       "            }\r\n",
       "            catch (error) {\r\n",
       "                console.log(error);\r\n",
       "            }\r\n",
       "</script>\r\n",
       "</div>\r\n"
      ]
     },
     "metadata": {},
     "output_type": "display_data"
    }
   ],
   "source": [
    "mindmap\n",
    "  root(Testing)\n",
    "    Test frameworks\n",
    "      MSTest\n",
    "      xUnit\n",
    "      nUnit\n",
    "    Mocking\n",
    "      Moq\n",
    "      xUnit Mock\n",
    "      JustMock\n",
    "      FakeItEasy\n",
    "      NSubstitute\n",
    "      Rhino Mocks\n",
    "      Self-made\n",
    "    Coverage\n",
    "      coverage-gutters\n",
    "      coverlet.msbuild"
   ]
  },
  {
   "cell_type": "markdown",
   "metadata": {},
   "source": [
    "## xUnit Project Creation"
   ]
  },
  {
   "cell_type": "code",
   "execution_count": null,
   "metadata": {
    "dotnet_interactive": {
     "language": "pwsh"
    },
    "polyglot_notebook": {
     "kernelName": "pwsh"
    }
   },
   "outputs": [],
   "source": [
    "dotnet new sln -o xUnitExampleSolution\n",
    "cd xUnitExampleSolution\n",
    "dotnet new classlib -o PrimeService\n",
    "ren .\\PrimeService\\Class1.cs PrimeService.cs\n",
    "dotnet sln add ./PrimeService/PrimeService.csproj\n",
    "dotnet new xunit -o PrimeService.Tests\n",
    "dotnet add ./PrimeService.Tests/PrimeService.Tests.csproj reference ./PrimeService/PrimeService.csproj\n",
    "dotnet sln add ./PrimeService.Tests/PrimeService.Tests.csproj"
   ]
  },
  {
   "cell_type": "markdown",
   "metadata": {},
   "source": [
    "## nUnit Project Creation"
   ]
  },
  {
   "cell_type": "code",
   "execution_count": null,
   "metadata": {
    "dotnet_interactive": {
     "language": "pwsh"
    },
    "polyglot_notebook": {
     "kernelName": "pwsh"
    }
   },
   "outputs": [],
   "source": [
    "dotnet new sln -o nUnitExampleSolution\n",
    "cd xUnitExampleSolution\n",
    "dotnet new classlib -o PrimeService\n",
    "ren .\\PrimeService\\Class1.cs PrimeService.cs\n",
    "dotnet sln add ./PrimeService/PrimeService.csproj\n",
    "dotnet new nunit -o PrimeService.Tests\n",
    "dotnet add ./PrimeService.Tests/PrimeService.Tests.csproj reference ./PrimeService/PrimeService.csproj\n",
    "dotnet sln add ./PrimeService.Tests/PrimeService.Tests.csproj"
   ]
  },
  {
   "cell_type": "markdown",
   "metadata": {},
   "source": [
    "## Coverage"
   ]
  },
  {
   "cell_type": "code",
   "execution_count": null,
   "metadata": {
    "dotnet_interactive": {
     "language": "pwsh"
    },
    "polyglot_notebook": {
     "kernelName": "pwsh"
    }
   },
   "outputs": [],
   "source": [
    "dotnet add package coverlet.msbuild"
   ]
  },
  {
   "cell_type": "code",
   "execution_count": null,
   "metadata": {
    "dotnet_interactive": {
     "language": "pwsh"
    },
    "polyglot_notebook": {
     "kernelName": "pwsh"
    }
   },
   "outputs": [],
   "source": [
    "dotnet test /p:CollectCoverage=true /p:CoverletOutputFormat=lcov /p:CoverletOutput=lcov.info"
   ]
  },
  {
   "cell_type": "markdown",
   "metadata": {},
   "source": [
    "## Coverage Gutters"
   ]
  },
  {
   "cell_type": "markdown",
   "metadata": {},
   "source": [
    "[How to configure](https://github.com/ryanluker/vscode-coverage-gutters/tree/master/example/dotnet)\n",
    "\n",
    "**What it is?**\n",
    "\n",
    "Gutters display indication if line is covered or not (green - fully covered; yellow - partially covered; red - not covered):\n",
    "![Gutters example](media/gutters_example.png)"
   ]
  }
 ],
 "metadata": {
  "kernelspec": {
   "display_name": ".NET (C#)",
   "language": "C#",
   "name": ".net-csharp"
  },
  "polyglot_notebook": {
   "kernelInfo": {
    "defaultKernelName": "csharp",
    "items": [
     {
      "aliases": [],
      "languageName": "csharp",
      "name": "csharp"
     }
    ]
   }
  }
 },
 "nbformat": 4,
 "nbformat_minor": 2
}
