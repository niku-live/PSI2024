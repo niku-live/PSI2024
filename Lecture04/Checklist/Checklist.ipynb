{
 "cells": [
  {
   "cell_type": "markdown",
   "metadata": {},
   "source": [
    "# Deadline 1 - Checklist"
   ]
  },
  {
   "cell_type": "markdown",
   "metadata": {},
   "source": [
    "Deadline is at 2024-10-17 20:00 EEST\n",
    "\n",
    "- Maximum points if completed by deadline: **1.5**\n",
    "- Maximum points if completed by 2024-10-10: **1.5 + 0.075**\n",
    "- Maximum points if completed by 2024-10-03: **1.5 + 0.15**"
   ]
  },
  {
   "cell_type": "markdown",
   "metadata": {},
   "source": [
    "## Presentation"
   ]
  },
  {
   "cell_type": "markdown",
   "metadata": {},
   "source": [
    "- You prepared an actual presentation (slides + working app demo) and are ready to present it loud before every other team.\n",
    "- Every team member can present by himself about tasks he did. It is expected that after presentation (or during presentation) every team member will talk.\n",
    "- You can present in your code every implemented requirement."
   ]
  },
  {
   "cell_type": "markdown",
   "metadata": {},
   "source": [
    "## Goals"
   ]
  },
  {
   "cell_type": "markdown",
   "metadata": {},
   "source": [
    "### Official goal: to develop an **web** application using the material covered in 1-6 lectures."
   ]
  },
  {
   "cell_type": "markdown",
   "metadata": {},
   "source": [
    "- You have a **working** (alpha) version of your app.\n",
    "- It is a web-based application which:\n",
    "  - Has functional UI (front-end)\n",
    "  - Has API (back-end)\n",
    "  - Front-end has calls to API and they are meaninful.\n",
    "  - API is implemented in C#\n",
    "  - UI can be implemented in C# or well-known Javascript/Typescript framework\n",
    "  - Code distribution between Front-end and back-end is around 50/50.\n",
    "- You worked as a team.\n",
    "- You have cooperation proofs (code, commit, pull requests, working app, UI design pictures and etc.)\n",
    "- Your app implementation uses material from 1-6 lectures.\n",
    "- **Every** team member knows and understands material covered in 1-6 lectures."
   ]
  },
  {
   "cell_type": "markdown",
   "metadata": {},
   "source": [
    "### goal: to develop an app in ASP.NET, that has basic functionality of assigned APP. Understand the usage of GitHub, coding in team principles. Prepare foundation for future work. Learn to code review yourself and take the feedback when getting one."
   ]
  },
  {
   "cell_type": "markdown",
   "metadata": {},
   "source": [
    "- Your app has **working** UI.\n",
    "- Your app is functional (has at least some kind of working and **usable** functionality). Non-functional requirements (like for example security) do no contribute to word \"functional\".\n",
    "- You have a GitHub repository (and I have access to it)\n",
    "- Your teamwork is represented in your repository (commits from all team members, pull requests and other cooperation proofs)\n",
    "- You worked using pull requests, your team members commented on your PR (and a least some of the comments required changes, not just \"looks good\" type of comments), no direct changes on main/master branch.\n",
    "- **Every** team member used git, made commits, created pull requests, commented on pull requests."
   ]
  },
  {
   "cell_type": "markdown",
   "metadata": {},
   "source": [
    "## Requirements"
   ]
  },
  {
   "cell_type": "markdown",
   "metadata": {},
   "source": [
    "### Application can be interacted with using *some* sort of interface"
   ]
  },
  {
   "cell_type": "markdown",
   "metadata": {},
   "source": [
    "- Application has user interface (it is not just an API or some console hacker-ish app)\n",
    "- Interface is interactive (user can press some elements and get some results)\n",
    "- Application is functional (at least some functions work fully)"
   ]
  },
  {
   "cell_type": "markdown",
   "metadata": {},
   "source": [
    "### Creating and using your own class, struct, record and enum;"
   ]
  },
  {
   "cell_type": "markdown",
   "metadata": {},
   "source": [
    "- Your app contains at least one **meaningfully** used your own (non-standard) class\n",
    "- Your app contains at least one **meaningfully** used your own (non-standard) struct\n",
    "- Your app contains at least one **meaningfully** used your own (non-standard) record\n",
    "- Your app contains at least one **meaningfully** used your own (non-standard) enum\n",
    "- **Every** team member can point in your code class, struct, record and enum + usage of them; can explain why it was implemented like that.\n",
    "- **Every** team member knows differences between class, struct and record, how to implement both\n",
    "- **Every** team member knows what is enum, how to implement it\n",
    "- **Every** team member knows what is enum with flags, how to implement it\n",
    "\n",
    "\n",
    "Useful docs:\n",
    "- [Choosing Between Class and Struct](https://learn.microsoft.com/en-us/dotnet/standard/design-guidelines/choosing-between-class-and-struct)\n",
    "- [Structure types](https://learn.microsoft.com/en-us/dotnet/csharp/language-reference/builtin-types/struct)\n",
    "- [Enumeration types](https://learn.microsoft.com/en-us/dotnet/csharp/language-reference/builtin-types/enum)\n",
    "- [Class types](https://learn.microsoft.com/en-us/dotnet/csharp/language-reference/keywords/class)\n",
    "- [Record types](https://learn.microsoft.com/en-us/dotnet/csharp/whats-new/tutorials/records)"
   ]
  },
  {
   "cell_type": "markdown",
   "metadata": {},
   "source": [
    "### Property usage in struct and class"
   ]
  },
  {
   "cell_type": "markdown",
   "metadata": {},
   "source": [
    "- Your app contains at least one **meaningfully** used property in class\n",
    "- Your app contains at least one **meaningfully** used property in struct\n",
    "- **Every** team member can point in your code properties; explain why it was implemented like that.\n",
    "- **Every** team member knows all types of properties (normal property, auto-implemented property, indexer); can implement them on-site.\n",
    "\n",
    "Useful docs:\n",
    "- [Properties](https://learn.microsoft.com/en-us/dotnet/csharp/programming-guide/classes-and-structs/properties)\n",
    "- [Indexers](https://learn.microsoft.com/en-us/dotnet/csharp/programming-guide/indexers/)"
   ]
  },
  {
   "cell_type": "code",
   "execution_count": null,
   "metadata": {
    "dotnet_interactive": {
     "language": "csharp"
    },
    "polyglot_notebook": {
     "kernelName": "csharp"
    }
   },
   "outputs": [],
   "source": [
    "//This is not meanningful usage of standard property:\n",
    "\n",
    "class Test\n",
    "{\n",
    "    private int _somePropertyBackingField = 0;\n",
    "    public int SomeProperty { get { return _somePropertyBackingField; } set { _somePropertyBackingField = value; }}\n",
    "}"
   ]
  },
  {
   "cell_type": "code",
   "execution_count": null,
   "metadata": {
    "dotnet_interactive": {
     "language": "csharp"
    },
    "polyglot_notebook": {
     "kernelName": "csharp"
    }
   },
   "outputs": [],
   "source": [
    "class Test\n",
    "{\n",
    "    public int SomeProperty { get; set; } = 0;\n",
    "}"
   ]
  },
  {
   "cell_type": "code",
   "execution_count": null,
   "metadata": {
    "dotnet_interactive": {
     "language": "csharp"
    },
    "polyglot_notebook": {
     "kernelName": "csharp"
    }
   },
   "outputs": [],
   "source": [
    "//This is kinda meanningful usage of standard property:\n",
    "\n",
    "class Test\n",
    "{\n",
    "    private int _somePropertyBackingField = 0;\n",
    "    public int SomeProperty { get { return _somePropertyBackingField; } set { _somePropertyBackingField = value; OnPropertyChanged(value); }}\n",
    "\n",
    "    private void OnPropertyChanged(int newValue)\n",
    "    {\n",
    "        //Some tests\n",
    "    }\n",
    "}"
   ]
  },
  {
   "cell_type": "markdown",
   "metadata": {},
   "source": [
    "### Named and optional argument usage"
   ]
  },
  {
   "cell_type": "markdown",
   "metadata": {},
   "source": [
    "- Your app contains at least one **meaningfully** used named argument\n",
    "- Your app contains at least one **meaningfully** used optional argument\n",
    "- **Every** team member can point in your code named and optional argument usage; explain why it was implemented like that.\n",
    "- **Every** team member knows the meaning behind named and optional arguments, can implement them on-site.\n",
    "\n",
    "Useful docs:\n",
    "- [Named and optional arguments](https://learn.microsoft.com/en-us/dotnet/csharp/programming-guide/classes-and-structs/named-and-optional-arguments)"
   ]
  },
  {
   "cell_type": "markdown",
   "metadata": {},
   "source": [
    "### Extension method usage"
   ]
  },
  {
   "cell_type": "markdown",
   "metadata": {},
   "source": [
    "- Your app contains at least one **meaningfully** used extension method\n",
    "- **Every** team member can point in your code extension method and its usage; explain why it was implemented like that.\n",
    "- **Every** team member knows and can implement and use extension method on-site.\n",
    "\n",
    "Note:\n",
    "- Using extension method on your own class usually is not a meaningful usage (you can just add method directly to your class, you own the code)\n",
    "\n",
    "Useful docs:\n",
    "- [Extension methods](https://learn.microsoft.com/en-us/dotnet/csharp/programming-guide/classes-and-structs/extension-methods)"
   ]
  },
  {
   "cell_type": "markdown",
   "metadata": {},
   "source": [
    "### Iterating through collection the right way"
   ]
  },
  {
   "cell_type": "markdown",
   "metadata": {},
   "source": [
    "- Your app contains at least one **meaningfully** used iteration through collection.\n",
    "- Iteration is performed using recommended methods.\n",
    "- **Every** team member can point in your code extension method and its usage; explain why it was implemented like that.\n",
    "- **Every** team member knows and can implement and use extension method on-site.\n",
    "\n",
    "Useful docs:\n",
    "- [C# Collection](https://www.functionx.com/csharp40/collections/Lesson02.htm)"
   ]
  },
  {
   "cell_type": "markdown",
   "metadata": {},
   "source": [
    "### Using a stream to load data (can be from file, web service, socket etc.)"
   ]
  },
  {
   "cell_type": "markdown",
   "metadata": {},
   "source": [
    "- Your app contains at least one **meaningfully** used stream reading operation.\n",
    "- Stream reading is implemented with using operator.\n",
    "- **Every** team member can point in your code where stream reading happens; explain why it was implemented like that.\n",
    "- **Every** team member knows and can implement stream reading on-site.\n",
    "- **Every** team member knows and can use streams, stream readers, using operator.\n",
    "\n",
    "Note:\n",
    "- While simplest file reading can be implemented using File.ReadAllText method, but for learning purpoise you should use streams and using operator (or at least understand what that is)\n",
    "\n",
    "Useful docs:\n",
    "- [Reading from file](https://learn.microsoft.com/en-us/dotnet/csharp/programming-guide/file-system/how-to-read-from-a-text-file)\n",
    "- [Using statement](https://learn.microsoft.com/en-us/dotnet/csharp/language-reference/keywords/using-statement)\n",
    "- [About different file access APIs](https://devblogs.microsoft.com/dotnet/the-convenience-of-dotnet/)"
   ]
  },
  {
   "cell_type": "markdown",
   "metadata": {},
   "source": [
    "### Boxing and unboxing"
   ]
  },
  {
   "cell_type": "markdown",
   "metadata": {},
   "source": [
    "- Boxing/unboxing is not used blindly and only in places where it is needed;\n",
    "- **Every** team member can point in your code where type boxing/unboxing happens; explain why it was implemented like that.\n",
    "- **Every** team member knows how to what boxing/unboxing is; can implement this on-site.\n",
    "\n",
    "Useful docs:\n",
    "- [Boxing/unboxing](https://learn.microsoft.com/en-us/dotnet/csharp/programming-guide/types/boxing-and-unboxing)"
   ]
  },
  {
   "cell_type": "code",
   "execution_count": null,
   "metadata": {
    "dotnet_interactive": {
     "language": "csharp"
    },
    "polyglot_notebook": {
     "kernelName": "csharp"
    }
   },
   "outputs": [],
   "source": [
    "object o = 10; //boxing (object is reference type, int is value type)\n",
    "int i = (int)o; //unboxing\n",
    "int? j = 10; //boxing\n",
    "int k = 10; //none"
   ]
  },
  {
   "cell_type": "markdown",
   "metadata": {},
   "source": [
    "### LINQ to Objects usage (methods or queries);"
   ]
  },
  {
   "cell_type": "markdown",
   "metadata": {},
   "source": [
    "- Your app contains at least one **meaningfully** used LINQ to Objects (query syntax)\n",
    "- **Or** your app contains at least one **meaningfully** used LINQ to Objects (methods)\n",
    "- **Every** team member can point in your code where type LINQ to Objecs is used; explain why it was implemented like that.\n",
    "- **Every** team member knows and can use LINQ to objecs both using query syntax and methods; can implement this on-site.\n",
    "\n",
    "Note:\n",
    "- While LINQ to SQL (and LINQ to Entity objects) uses the same syntax it is not LINQ to objects. You are using LINQ to Objects when you query collections (like list, dictionary) or other normal objects (like string). When you query entity framework objects your query is transformed into SQL sentence.\n",
    "\n",
    "Useful docs:\n",
    "- [LINQ to Objects](https://learn.microsoft.com/en-us/dotnet/csharp/programming-guide/concepts/linq/linq-to-objects)\n",
    "- [Basic LINQ Query Operations](https://learn.microsoft.com/en-us/dotnet/csharp/programming-guide/concepts/linq/basic-linq-query-operations)"
   ]
  },
  {
   "cell_type": "code",
   "execution_count": null,
   "metadata": {
    "dotnet_interactive": {
     "language": "csharp"
    },
    "polyglot_notebook": {
     "kernelName": "csharp"
    }
   },
   "outputs": [],
   "source": [
    "var list = new List<int>() { 1, 5, 8};\n",
    "\n",
    "var result = list.Where(i => i % 2 == 1); //by method\n",
    "var result2 = from i in list where i % 2 == 1 select i; //by query"
   ]
  },
  {
   "cell_type": "markdown",
   "metadata": {},
   "source": [
    "### Implementing at least one of the standard .NET interfaces (IEnumerable, IComparable, IComparer, IEquatable, IEnumerator, etc.)"
   ]
  },
  {
   "cell_type": "markdown",
   "metadata": {},
   "source": [
    "- Your app contains at least one **meaningfully** used standard .NET interface\n",
    "- **Every** team member can point in your code where standard interfaces are used; explain why it was implemented like that.\n",
    "- **Every** team member knows and can use IComparable/IComparer/IEquatable interfaces; can implement this on-site.\n",
    "- **Every** team member knows and can use IEnumerator/IEnumerable interfaces; can implement this on-site.\n",
    "\n",
    "Useful docs:\n",
    "- [IEquatable](https://learn.microsoft.com/en-us/dotnet/api/system.iequatable-1?view=net-7.0)\n",
    "- [IComparable](https://learn.microsoft.com/en-us/dotnet/api/system.icomparable-1?view=net-6.0)\n",
    "- [IComparer](https://learn.microsoft.com/en-us/dotnet/api/system.collections.generic.icomparer-1?view=net-6.0)\n",
    "- [IEnumerator](https://learn.microsoft.com/en-us/dotnet/api/system.collections.generic.ienumerator-1?view=net-6.0)\n",
    "- [IEnumerable](https://learn.microsoft.com/en-us/dotnet/api/system.collections.generic.ienumerable-1?view=net-7.0)"
   ]
  }
 ],
 "metadata": {
  "kernelspec": {
   "display_name": ".NET (C#)",
   "language": "C#",
   "name": ".net-csharp"
  },
  "polyglot_notebook": {
   "kernelInfo": {
    "defaultKernelName": "csharp",
    "items": [
     {
      "aliases": [],
      "languageName": "csharp",
      "name": "csharp"
     }
    ]
   }
  }
 },
 "nbformat": 4,
 "nbformat_minor": 2
}
