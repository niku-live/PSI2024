{
 "cells": [
  {
   "cell_type": "markdown",
   "metadata": {},
   "source": [
    "# Deadline 3 - Checklist"
   ]
  },
  {
   "cell_type": "markdown",
   "metadata": {},
   "source": [
    "Deadline is at 2024-12-19 20:00 EEST\n",
    "\n",
    "- Maximum points if completed by deadline: **2.0**\n",
    "- Maximum points if completed by 2024-12-12: **2.0 + 0.1**\n",
    "- Maximum points if completed by 2024-12-05: **2.0 + 0.2**\n",
    "\n",
    "Additional bonus for real deployment: **0.5**, but total points cannot exceed **5.5**"
   ]
  },
  {
   "cell_type": "markdown",
   "metadata": {},
   "source": [
    "## Presentation"
   ]
  },
  {
   "cell_type": "markdown",
   "metadata": {},
   "source": [
    "- You prepared an actual presentation (slides + working app demo) and are ready to present it loud before every other team.\n",
    "- This is \"pitch\" type presentation, slides should \"sell product to potential investor\". Slides can contain information about code\n",
    "- Every team member can present by himself about tasks he did. It is expected that after presentation (or during presentation) every team member will talk.\n",
    "- You can present in your code every implemented requirement."
   ]
  },
  {
   "cell_type": "markdown",
   "metadata": {},
   "source": [
    "## Goals"
   ]
  },
  {
   "cell_type": "markdown",
   "metadata": {},
   "source": [
    "### Official goal: continue developing an app while working in groups while using material covered in 11-14 lectures."
   ]
  },
  {
   "cell_type": "markdown",
   "metadata": {},
   "source": [
    "- You have a **final** version of your app.\n",
    "- It is a web-based application which:\n",
    "  - Has functional UI (front-end)\n",
    "  - Has API (back-end)\n",
    "  - Front-end has calls to API and they are meaninful.\n",
    "  - API is implemented in C#\n",
    "  - UI can be implemented in C# or well-known Javascript/Typescript framework\n",
    "  - Code distribution between Front-end and back-end is around 50/50.\n",
    "- You worked as a team.\n",
    "- You have cooperation proofs (code, commit, pull requests, working app, UI design pictures and etc.)\n",
    "- Your app implementation uses material from 11-14 lectures.\n",
    "- **Every** team member knows and understands material covered in 11-14 lectures.\n",
    "- Final version is fully complete product, so all functions must be functional and usable.\n",
    "- Final version should be more polished than beta version and should have visible improvements."
   ]
  },
  {
   "cell_type": "markdown",
   "metadata": {},
   "source": [
    "### Unofficial goal: think about the end-user experience, deepen the functionality of application while being creative. Finish up an MVP version of your application."
   ]
  },
  {
   "cell_type": "markdown",
   "metadata": {},
   "source": [
    "- Your app are using real database.\n",
    "- Your app has automated test running, you can show testing result during presentation.\n",
    "- Beta version is almost complete product, so all functions must be functional and usable.\n",
    "- You have a GitHub repository (and I have access to it)\n",
    "- Your teamwork is represented in your repository (commits from all team members, pull requests and other cooperation proofs)\n",
    "- You worked using pull requests, your team members commented on your PR (and a least some of the comments required changes, not just \"looks good\" type of comments), no direct changes on main/master branch.\n",
    "- **Every** team member used git, made commits, created pull requests, commented on pull requests."
   ]
  },
  {
   "cell_type": "markdown",
   "metadata": {},
   "source": [
    "### Bonus: Application is hosted and demonstrated in a production like environment."
   ]
  },
  {
   "cell_type": "markdown",
   "metadata": {},
   "source": [
    "Maximum 0.5 points\n",
    "\n",
    "- Application can be accessed from the internet:\n",
    "  - Using IP: +0.1\n",
    "  - Using hostname: +0.2\n",
    "- Application is actually deployed to the server (it is not just VSCode running on your home computer) and has valid SSL certificate (Use can use https://letsencrypt.org/ for free certificates): +0.1\n",
    "- Deployment is automatic:\n",
    "  - Using Visual Studio/Visual Studio Code/Powershell or some other prepared scripts +0.1\n",
    "  - Using CD pipelines (for example Github actions) with some kind of process (for example CD is executed automatically when changes are merged into release branch, deployment is blocked if tests fail) +0.1\n",
    "- Some other fancy deployment stuff: +0.x points (depending on lecturer opinion)"
   ]
  },
  {
   "cell_type": "markdown",
   "metadata": {},
   "source": [
    "## Requirements"
   ]
  },
  {
   "cell_type": "markdown",
   "metadata": {},
   "source": [
    "### Application is in a stable state (presentation is made and no obvious usability issues/errors are observed)."
   ]
  },
  {
   "cell_type": "markdown",
   "metadata": {},
   "source": [
    "- All functions work as expected\n",
    "- Errors are shown only in cases where they are expected (for example user enters nonsense information), there are no unhandled errors\n",
    "- UI is fully usable, looks as final product\n",
    "- Everything is presented from main branch, no swithing between other branches or unfinished PRs"
   ]
  },
  {
   "cell_type": "markdown",
   "metadata": {},
   "source": [
    "### Unit and integration test coverage is at least 80%."
   ]
  },
  {
   "cell_type": "markdown",
   "metadata": {},
   "source": [
    "- Your application contains unit tests\n",
    "- Your application contains integration tests\n",
    "- Total code coverage (front-end + back-end) is at least 80%\n",
    "- You can show test completing successfully during presentation\n",
    "- You can show that code coverage is really >= 80\n",
    "- **Every** team member knows where are tests in your application.\n",
    "- **Every** team member knows differences between unit and integration tests"
   ]
  },
  {
   "cell_type": "markdown",
   "metadata": {},
   "source": [
    "### Value proposition of the application can be clearly articulated."
   ]
  },
  {
   "cell_type": "markdown",
   "metadata": {},
   "source": [
    "- During presentation team clearly describes value of their application\n",
    "- Value is reasonable and well presented"
   ]
  },
  {
   "cell_type": "markdown",
   "metadata": {},
   "source": [
    "### Application is shown to solve the problem the students have raised."
   ]
  },
  {
   "cell_type": "markdown",
   "metadata": {},
   "source": [
    "- Application solves problem that was raised during first lecture\n",
    "- During presentation team describes what was original problem and how they solved (including application demonstration)\n",
    "- Solution is finalised, there is no \"not-implemented\" features left.\n",
    "- Application is production ready\n",
    "- No hardcoded configuration (like \"localhost\", SQL connection strings and etc.)"
   ]
  }
 ],
 "metadata": {
  "kernelspec": {
   "display_name": ".NET (C#)",
   "language": "C#",
   "name": ".net-csharp"
  },
  "polyglot_notebook": {
   "kernelInfo": {
    "defaultKernelName": "csharp",
    "items": [
     {
      "aliases": [],
      "languageName": "csharp",
      "name": "csharp"
     }
    ]
   }
  }
 },
 "nbformat": 4,
 "nbformat_minor": 2
}
