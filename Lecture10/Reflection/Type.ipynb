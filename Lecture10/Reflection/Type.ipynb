{
 "cells": [
  {
   "cell_type": "markdown",
   "metadata": {},
   "source": [
    "# **Type** data type - how to create it"
   ]
  },
  {
   "cell_type": "code",
   "execution_count": null,
   "metadata": {
    "dotnet_interactive": {
     "language": "csharp"
    },
    "polyglot_notebook": {
     "kernelName": "csharp"
    }
   },
   "outputs": [
    {
     "data": {
      "text/html": [
       "<span><a href=\"https://docs.microsoft.com/dotnet/api/system.string?view=net-7.0\">System.String</a></span>"
      ]
     },
     "metadata": {},
     "output_type": "display_data"
    },
    {
     "data": {
      "text/html": [
       "<span><a href=\"https://docs.microsoft.com/dotnet/api/system.runtimetype?view=net-7.0\">System.RuntimeType</a></span>"
      ]
     },
     "metadata": {},
     "output_type": "display_data"
    }
   ],
   "source": [
    "//System.Type\n",
    "\n",
    "//Using typeof operator\n",
    "var typeInfo = typeof(string);\n",
    "display(typeInfo);\n",
    "display(typeInfo.GetType());"
   ]
  },
  {
   "cell_type": "code",
   "execution_count": null,
   "metadata": {},
   "outputs": [
    {
     "data": {
      "text/html": [
       "<span><a href=\"https://docs.microsoft.com/dotnet/api/system.string?view=net-7.0\">System.String</a></span>"
      ]
     },
     "metadata": {},
     "output_type": "display_data"
    },
    {
     "data": {
      "text/html": [
       "<span><a href=\"https://docs.microsoft.com/dotnet/api/system.int32?view=net-7.0\">System.Int32</a></span>"
      ]
     },
     "metadata": {},
     "output_type": "display_data"
    }
   ],
   "source": [
    "//Using object.GetType() method\n",
    "string s = \"Text\";\n",
    "typeInfo = s.GetType();\n",
    "display(typeInfo);\n",
    "\n",
    "int i = 10;\n",
    "display(i.GetType());"
   ]
  },
  {
   "cell_type": "code",
   "execution_count": null,
   "metadata": {},
   "outputs": [
    {
     "data": {
      "text/html": [
       "<span><a href=\"https://docs.microsoft.com/dotnet/api/system.string?view=net-7.0\">System.String</a></span>"
      ]
     },
     "metadata": {},
     "output_type": "display_data"
    },
    {
     "data": {
      "text/html": [
       "<span><a href=\"https://docs.microsoft.com/dotnet/api/system.int32?view=net-7.0\">System.Int32</a></span>"
      ]
     },
     "metadata": {},
     "output_type": "display_data"
    }
   ],
   "source": [
    "//Using Type.GetType static method\n",
    "typeInfo = Type.GetType(\"System.String\");\n",
    "display(typeInfo);\n",
    "\n",
    "typeInfo = Type.GetType(\"System.Int32\");\n",
    "display(typeInfo);"
   ]
  },
  {
   "cell_type": "code",
   "execution_count": null,
   "metadata": {},
   "outputs": [
    {
     "data": {
      "text/html": [
       "<span><a href=\"https://docs.microsoft.com/dotnet/api/system.collections.generic.list-1?view=net-7.0\">System.Collections.Generic.List&lt;System.String&gt;</a></span>"
      ]
     },
     "metadata": {},
     "output_type": "display_data"
    },
    {
     "data": {
      "text/html": [
       "<span><a href=\"https://docs.microsoft.com/dotnet/api/system.collections.generic.list-1?view=net-7.0\">System.Collections.Generic.List&lt;System.Int32&gt;</a></span>"
      ]
     },
     "metadata": {},
     "output_type": "display_data"
    },
    {
     "data": {
      "text/html": [
       "<span><a href=\"https://docs.microsoft.com/dotnet/api/system.collections.generic.list-1?view=net-7.0\">System.Collections.Generic.List&lt;T&gt;</a></span>"
      ]
     },
     "metadata": {},
     "output_type": "display_data"
    }
   ],
   "source": [
    "//Generics\n",
    "typeInfo = typeof(List<string>);\n",
    "display(typeInfo);\n",
    "\n",
    "display(typeof(List<int>));\n",
    "\n",
    "display(typeof(List<>));"
   ]
  },
  {
   "cell_type": "markdown",
   "metadata": {},
   "source": [
    "# **Type** data type - properties"
   ]
  },
  {
   "cell_type": "code",
   "execution_count": null,
   "metadata": {},
   "outputs": [
    {
     "data": {
      "text/html": [
       "<table><thead><tr><th><i>index</i></th><th>value</th></tr></thead><tbody><tr><td>0</td><td><details class=\"dni-treeview\"><summary><span class=\"dni-code-hint\"><code>{ Name = IsInterface, PropertyType = System.Boolean }</code></span></summary><div><table><thead><tr></tr></thead><tbody><tr><td>Name</td><td><div class=\"dni-plaintext\"><pre>IsInterface</pre></div></td></tr><tr><td>PropertyType</td><td><span><a href=\"https://docs.microsoft.com/dotnet/api/system.boolean?view=net-7.0\">System.Boolean</a></span></td></tr></tbody></table></div></details></td></tr><tr><td>1</td><td><details class=\"dni-treeview\"><summary><span class=\"dni-code-hint\"><code>{ Name = MemberType, PropertyType = System.Reflection.MemberTypes }</code></span></summary><div><table><thead><tr></tr></thead><tbody><tr><td>Name</td><td><div class=\"dni-plaintext\"><pre>MemberType</pre></div></td></tr><tr><td>PropertyType</td><td><span><a href=\"https://docs.microsoft.com/dotnet/api/system.reflection.membertypes?view=net-7.0\">System.Reflection.MemberTypes</a></span></td></tr></tbody></table></div></details></td></tr><tr><td>2</td><td><details class=\"dni-treeview\"><summary><span class=\"dni-code-hint\"><code>{ Name = Namespace, PropertyType = System.String }</code></span></summary><div><table><thead><tr></tr></thead><tbody><tr><td>Name</td><td><div class=\"dni-plaintext\"><pre>Namespace</pre></div></td></tr><tr><td>PropertyType</td><td><span><a href=\"https://docs.microsoft.com/dotnet/api/system.string?view=net-7.0\">System.String</a></span></td></tr></tbody></table></div></details></td></tr><tr><td>3</td><td><details class=\"dni-treeview\"><summary><span class=\"dni-code-hint\"><code>{ Name = AssemblyQualifiedName, PropertyType = System.String }</code></span></summary><div><table><thead><tr></tr></thead><tbody><tr><td>Name</td><td><div class=\"dni-plaintext\"><pre>AssemblyQualifiedName</pre></div></td></tr><tr><td>PropertyType</td><td><span><a href=\"https://docs.microsoft.com/dotnet/api/system.string?view=net-7.0\">System.String</a></span></td></tr></tbody></table></div></details></td></tr><tr><td>4</td><td><details class=\"dni-treeview\"><summary><span class=\"dni-code-hint\"><code>{ Name = FullName, PropertyType = System.String }</code></span></summary><div><table><thead><tr></tr></thead><tbody><tr><td>Name</td><td><div class=\"dni-plaintext\"><pre>FullName</pre></div></td></tr><tr><td>PropertyType</td><td><span><a href=\"https://docs.microsoft.com/dotnet/api/system.string?view=net-7.0\">System.String</a></span></td></tr></tbody></table></div></details></td></tr><tr><td>5</td><td><details class=\"dni-treeview\"><summary><span class=\"dni-code-hint\"><code>{ Name = Assembly, PropertyType = System.Reflection.Assembly }</code></span></summary><div><table><thead><tr></tr></thead><tbody><tr><td>Name</td><td><div class=\"dni-plaintext\"><pre>Assembly</pre></div></td></tr><tr><td>PropertyType</td><td><span><a href=\"https://docs.microsoft.com/dotnet/api/system.reflection.assembly?view=net-7.0\">System.Reflection.Assembly</a></span></td></tr></tbody></table></div></details></td></tr><tr><td>6</td><td><details class=\"dni-treeview\"><summary><span class=\"dni-code-hint\"><code>{ Name = Module, PropertyType = System.Reflection.Module }</code></span></summary><div><table><thead><tr></tr></thead><tbody><tr><td>Name</td><td><div class=\"dni-plaintext\"><pre>Module</pre></div></td></tr><tr><td>PropertyType</td><td><span><a href=\"https://docs.microsoft.com/dotnet/api/system.reflection.module?view=net-7.0\">System.Reflection.Module</a></span></td></tr></tbody></table></div></details></td></tr><tr><td>7</td><td><details class=\"dni-treeview\"><summary><span class=\"dni-code-hint\"><code>{ Name = IsNested, PropertyType = System.Boolean }</code></span></summary><div><table><thead><tr></tr></thead><tbody><tr><td>Name</td><td><div class=\"dni-plaintext\"><pre>IsNested</pre></div></td></tr><tr><td>PropertyType</td><td><span><a href=\"https://docs.microsoft.com/dotnet/api/system.boolean?view=net-7.0\">System.Boolean</a></span></td></tr></tbody></table></div></details></td></tr><tr><td>8</td><td><details class=\"dni-treeview\"><summary><span class=\"dni-code-hint\"><code>{ Name = DeclaringType, PropertyType = System.Type }</code></span></summary><div><table><thead><tr></tr></thead><tbody><tr><td>Name</td><td><div class=\"dni-plaintext\"><pre>DeclaringType</pre></div></td></tr><tr><td>PropertyType</td><td><span><a href=\"https://docs.microsoft.com/dotnet/api/system.type?view=net-7.0\">System.Type</a></span></td></tr></tbody></table></div></details></td></tr><tr><td>9</td><td><details class=\"dni-treeview\"><summary><span class=\"dni-code-hint\"><code>{ Name = DeclaringMethod, PropertyType = System.Reflection.MethodBase }</code></span></summary><div><table><thead><tr></tr></thead><tbody><tr><td>Name</td><td><div class=\"dni-plaintext\"><pre>DeclaringMethod</pre></div></td></tr><tr><td>PropertyType</td><td><span><a href=\"https://docs.microsoft.com/dotnet/api/system.reflection.methodbase?view=net-7.0\">System.Reflection.MethodBase</a></span></td></tr></tbody></table></div></details></td></tr><tr><td>10</td><td><details class=\"dni-treeview\"><summary><span class=\"dni-code-hint\"><code>{ Name = ReflectedType, PropertyType = System.Type }</code></span></summary><div><table><thead><tr></tr></thead><tbody><tr><td>Name</td><td><div class=\"dni-plaintext\"><pre>ReflectedType</pre></div></td></tr><tr><td>PropertyType</td><td><span><a href=\"https://docs.microsoft.com/dotnet/api/system.type?view=net-7.0\">System.Type</a></span></td></tr></tbody></table></div></details></td></tr><tr><td>11</td><td><details class=\"dni-treeview\"><summary><span class=\"dni-code-hint\"><code>{ Name = UnderlyingSystemType, PropertyType = System.Type }</code></span></summary><div><table><thead><tr></tr></thead><tbody><tr><td>Name</td><td><div class=\"dni-plaintext\"><pre>UnderlyingSystemType</pre></div></td></tr><tr><td>PropertyType</td><td><span><a href=\"https://docs.microsoft.com/dotnet/api/system.type?view=net-7.0\">System.Type</a></span></td></tr></tbody></table></div></details></td></tr><tr><td>12</td><td><details class=\"dni-treeview\"><summary><span class=\"dni-code-hint\"><code>{ Name = IsTypeDefinition, PropertyType = System.Boolean }</code></span></summary><div><table><thead><tr></tr></thead><tbody><tr><td>Name</td><td><div class=\"dni-plaintext\"><pre>IsTypeDefinition</pre></div></td></tr><tr><td>PropertyType</td><td><span><a href=\"https://docs.microsoft.com/dotnet/api/system.boolean?view=net-7.0\">System.Boolean</a></span></td></tr></tbody></table></div></details></td></tr><tr><td>13</td><td><details class=\"dni-treeview\"><summary><span class=\"dni-code-hint\"><code>{ Name = IsArray, PropertyType = System.Boolean }</code></span></summary><div><table><thead><tr></tr></thead><tbody><tr><td>Name</td><td><div class=\"dni-plaintext\"><pre>IsArray</pre></div></td></tr><tr><td>PropertyType</td><td><span><a href=\"https://docs.microsoft.com/dotnet/api/system.boolean?view=net-7.0\">System.Boolean</a></span></td></tr></tbody></table></div></details></td></tr><tr><td>14</td><td><details class=\"dni-treeview\"><summary><span class=\"dni-code-hint\"><code>{ Name = IsByRef, PropertyType = System.Boolean }</code></span></summary><div><table><thead><tr></tr></thead><tbody><tr><td>Name</td><td><div class=\"dni-plaintext\"><pre>IsByRef</pre></div></td></tr><tr><td>PropertyType</td><td><span><a href=\"https://docs.microsoft.com/dotnet/api/system.boolean?view=net-7.0\">System.Boolean</a></span></td></tr></tbody></table></div></details></td></tr><tr><td>15</td><td><details class=\"dni-treeview\"><summary><span class=\"dni-code-hint\"><code>{ Name = IsPointer, PropertyType = System.Boolean }</code></span></summary><div><table><thead><tr></tr></thead><tbody><tr><td>Name</td><td><div class=\"dni-plaintext\"><pre>IsPointer</pre></div></td></tr><tr><td>PropertyType</td><td><span><a href=\"https://docs.microsoft.com/dotnet/api/system.boolean?view=net-7.0\">System.Boolean</a></span></td></tr></tbody></table></div></details></td></tr><tr><td>16</td><td><details class=\"dni-treeview\"><summary><span class=\"dni-code-hint\"><code>{ Name = IsConstructedGenericType, PropertyType = System.Boolean }</code></span></summary><div><table><thead><tr></tr></thead><tbody><tr><td>Name</td><td><div class=\"dni-plaintext\"><pre>IsConstructedGenericType</pre></div></td></tr><tr><td>PropertyType</td><td><span><a href=\"https://docs.microsoft.com/dotnet/api/system.boolean?view=net-7.0\">System.Boolean</a></span></td></tr></tbody></table></div></details></td></tr><tr><td>17</td><td><details class=\"dni-treeview\"><summary><span class=\"dni-code-hint\"><code>{ Name = IsGenericParameter, PropertyType = System.Boolean }</code></span></summary><div><table><thead><tr></tr></thead><tbody><tr><td>Name</td><td><div class=\"dni-plaintext\"><pre>IsGenericParameter</pre></div></td></tr><tr><td>PropertyType</td><td><span><a href=\"https://docs.microsoft.com/dotnet/api/system.boolean?view=net-7.0\">System.Boolean</a></span></td></tr></tbody></table></div></details></td></tr><tr><td>18</td><td><details class=\"dni-treeview\"><summary><span class=\"dni-code-hint\"><code>{ Name = IsGenericTypeParameter, PropertyType = System.Boolean }</code></span></summary><div><table><thead><tr></tr></thead><tbody><tr><td>Name</td><td><div class=\"dni-plaintext\"><pre>IsGenericTypeParameter</pre></div></td></tr><tr><td>PropertyType</td><td><span><a href=\"https://docs.microsoft.com/dotnet/api/system.boolean?view=net-7.0\">System.Boolean</a></span></td></tr></tbody></table></div></details></td></tr><tr><td>19</td><td><details class=\"dni-treeview\"><summary><span class=\"dni-code-hint\"><code>{ Name = IsGenericMethodParameter, PropertyType = System.Boolean }</code></span></summary><div><table><thead><tr></tr></thead><tbody><tr><td>Name</td><td><div class=\"dni-plaintext\"><pre>IsGenericMethodParameter</pre></div></td></tr><tr><td>PropertyType</td><td><span><a href=\"https://docs.microsoft.com/dotnet/api/system.boolean?view=net-7.0\">System.Boolean</a></span></td></tr></tbody></table></div></details></td></tr><tr><td colspan=\"2\"><i>... (more)</i></td></tr></tbody></table><style>\r\n",
       ".dni-code-hint {\r\n",
       "    font-style: italic;\r\n",
       "    overflow: hidden;\r\n",
       "    white-space: nowrap;\r\n",
       "}\r\n",
       ".dni-treeview {\r\n",
       "    white-space: nowrap;\r\n",
       "}\r\n",
       ".dni-treeview td {\r\n",
       "    vertical-align: top;\r\n",
       "    text-align: start;\r\n",
       "}\r\n",
       "details.dni-treeview {\r\n",
       "    padding-left: 1em;\r\n",
       "}\r\n",
       "table td {\r\n",
       "    text-align: start;\r\n",
       "}\r\n",
       "table tr { \r\n",
       "    vertical-align: top; \r\n",
       "    margin: 0em 0px;\r\n",
       "}\r\n",
       "table tr td pre \r\n",
       "{ \r\n",
       "    vertical-align: top !important; \r\n",
       "    margin: 0em 0px !important;\r\n",
       "} \r\n",
       "table th {\r\n",
       "    text-align: start;\r\n",
       "}\r\n",
       "</style>"
      ]
     },
     "metadata": {},
     "output_type": "display_data"
    }
   ],
   "source": [
    "var typeInfo = typeof(Type);\n",
    "\n",
    "var properties = typeInfo.GetProperties().Select(p => new { p.Name, p.PropertyType });\n",
    "display(properties);"
   ]
  },
  {
   "cell_type": "code",
   "execution_count": null,
   "metadata": {},
   "outputs": [
    {
     "data": {
      "text/html": [
       "<table><thead><tr><th><i>index</i></th><th>value</th></tr></thead><tbody><tr><td>0</td><td><details class=\"dni-treeview\"><summary><span class=\"dni-code-hint\"><code>{ Name = Name, PropertyType = System.String }</code></span></summary><div><table><thead><tr></tr></thead><tbody><tr><td>Name</td><td><div class=\"dni-plaintext\"><pre>Name</pre></div></td></tr><tr><td>PropertyType</td><td><span><a href=\"https://docs.microsoft.com/dotnet/api/system.string?view=net-7.0\">System.String</a></span></td></tr></tbody></table></div></details></td></tr><tr><td>1</td><td><details class=\"dni-treeview\"><summary><span class=\"dni-code-hint\"><code>{ Name = LastName, PropertyType = System.String }</code></span></summary><div><table><thead><tr></tr></thead><tbody><tr><td>Name</td><td><div class=\"dni-plaintext\"><pre>LastName</pre></div></td></tr><tr><td>PropertyType</td><td><span><a href=\"https://docs.microsoft.com/dotnet/api/system.string?view=net-7.0\">System.String</a></span></td></tr></tbody></table></div></details></td></tr><tr><td>2</td><td><details class=\"dni-treeview\"><summary><span class=\"dni-code-hint\"><code>{ Name = TestProp, PropertyType = System.Int32 }</code></span></summary><div><table><thead><tr></tr></thead><tbody><tr><td>Name</td><td><div class=\"dni-plaintext\"><pre>TestProp</pre></div></td></tr><tr><td>PropertyType</td><td><span><a href=\"https://docs.microsoft.com/dotnet/api/system.int32?view=net-7.0\">System.Int32</a></span></td></tr></tbody></table></div></details></td></tr></tbody></table><style>\r\n",
       ".dni-code-hint {\r\n",
       "    font-style: italic;\r\n",
       "    overflow: hidden;\r\n",
       "    white-space: nowrap;\r\n",
       "}\r\n",
       ".dni-treeview {\r\n",
       "    white-space: nowrap;\r\n",
       "}\r\n",
       ".dni-treeview td {\r\n",
       "    vertical-align: top;\r\n",
       "    text-align: start;\r\n",
       "}\r\n",
       "details.dni-treeview {\r\n",
       "    padding-left: 1em;\r\n",
       "}\r\n",
       "table td {\r\n",
       "    text-align: start;\r\n",
       "}\r\n",
       "table tr { \r\n",
       "    vertical-align: top; \r\n",
       "    margin: 0em 0px;\r\n",
       "}\r\n",
       "table tr td pre \r\n",
       "{ \r\n",
       "    vertical-align: top !important; \r\n",
       "    margin: 0em 0px !important;\r\n",
       "} \r\n",
       "table th {\r\n",
       "    text-align: start;\r\n",
       "}\r\n",
       "</style>"
      ]
     },
     "metadata": {},
     "output_type": "display_data"
    }
   ],
   "source": [
    "class Person\n",
    "{\n",
    "    public string Name { get; set;}\n",
    "    public string LastName { get; set; }\n",
    "    public int TestProp {get ;set;}\n",
    "}\n",
    "\n",
    "var typeInfo = typeof(Person);\n",
    "\n",
    "var properties = typeInfo.GetProperties().Select(p => new { p.Name, p.PropertyType });\n",
    "display(properties);"
   ]
  },
  {
   "cell_type": "markdown",
   "metadata": {},
   "source": [
    "# **Type** data type - methods"
   ]
  },
  {
   "cell_type": "code",
   "execution_count": null,
   "metadata": {},
   "outputs": [
    {
     "data": {
      "text/html": [
       "<table><thead><tr><th><i>index</i></th><th>value</th></tr></thead><tbody><tr><td>0</td><td><details class=\"dni-treeview\"><summary><span class=\"dni-code-hint\"><code>{ Name = get_IsInterface, ParamCount = 0, ReturnType = System.Boolean }</code></span></summary><div><table><thead><tr></tr></thead><tbody><tr><td>Name</td><td><div class=\"dni-plaintext\"><pre>get_IsInterface</pre></div></td></tr><tr><td>ParamCount</td><td><div class=\"dni-plaintext\"><pre>0</pre></div></td></tr><tr><td>ReturnType</td><td><span><a href=\"https://docs.microsoft.com/dotnet/api/system.boolean?view=net-7.0\">System.Boolean</a></span></td></tr></tbody></table></div></details></td></tr><tr><td>1</td><td><details class=\"dni-treeview\"><summary><span class=\"dni-code-hint\"><code>{ Name = GetType, ParamCount = 3, ReturnType = System.Type }</code></span></summary><div><table><thead><tr></tr></thead><tbody><tr><td>Name</td><td><div class=\"dni-plaintext\"><pre>GetType</pre></div></td></tr><tr><td>ParamCount</td><td><div class=\"dni-plaintext\"><pre>3</pre></div></td></tr><tr><td>ReturnType</td><td><span><a href=\"https://docs.microsoft.com/dotnet/api/system.type?view=net-7.0\">System.Type</a></span></td></tr></tbody></table></div></details></td></tr><tr><td>2</td><td><details class=\"dni-treeview\"><summary><span class=\"dni-code-hint\"><code>{ Name = GetType, ParamCount = 2, ReturnType = System.Type }</code></span></summary><div><table><thead><tr></tr></thead><tbody><tr><td>Name</td><td><div class=\"dni-plaintext\"><pre>GetType</pre></div></td></tr><tr><td>ParamCount</td><td><div class=\"dni-plaintext\"><pre>2</pre></div></td></tr><tr><td>ReturnType</td><td><span><a href=\"https://docs.microsoft.com/dotnet/api/system.type?view=net-7.0\">System.Type</a></span></td></tr></tbody></table></div></details></td></tr><tr><td>3</td><td><details class=\"dni-treeview\"><summary><span class=\"dni-code-hint\"><code>{ Name = GetType, ParamCount = 1, ReturnType = System.Type }</code></span></summary><div><table><thead><tr></tr></thead><tbody><tr><td>Name</td><td><div class=\"dni-plaintext\"><pre>GetType</pre></div></td></tr><tr><td>ParamCount</td><td><div class=\"dni-plaintext\"><pre>1</pre></div></td></tr><tr><td>ReturnType</td><td><span><a href=\"https://docs.microsoft.com/dotnet/api/system.type?view=net-7.0\">System.Type</a></span></td></tr></tbody></table></div></details></td></tr><tr><td>4</td><td><details class=\"dni-treeview\"><summary><span class=\"dni-code-hint\"><code>{ Name = GetType, ParamCount = 3, ReturnType = System.Type }</code></span></summary><div><table><thead><tr></tr></thead><tbody><tr><td>Name</td><td><div class=\"dni-plaintext\"><pre>GetType</pre></div></td></tr><tr><td>ParamCount</td><td><div class=\"dni-plaintext\"><pre>3</pre></div></td></tr><tr><td>ReturnType</td><td><span><a href=\"https://docs.microsoft.com/dotnet/api/system.type?view=net-7.0\">System.Type</a></span></td></tr></tbody></table></div></details></td></tr><tr><td>5</td><td><details class=\"dni-treeview\"><summary><span class=\"dni-code-hint\"><code>{ Name = GetType, ParamCount = 4, ReturnType = System.Type }</code></span></summary><div><table><thead><tr></tr></thead><tbody><tr><td>Name</td><td><div class=\"dni-plaintext\"><pre>GetType</pre></div></td></tr><tr><td>ParamCount</td><td><div class=\"dni-plaintext\"><pre>4</pre></div></td></tr><tr><td>ReturnType</td><td><span><a href=\"https://docs.microsoft.com/dotnet/api/system.type?view=net-7.0\">System.Type</a></span></td></tr></tbody></table></div></details></td></tr><tr><td>6</td><td><details class=\"dni-treeview\"><summary><span class=\"dni-code-hint\"><code>{ Name = GetType, ParamCount = 5, ReturnType = System.Type }</code></span></summary><div><table><thead><tr></tr></thead><tbody><tr><td>Name</td><td><div class=\"dni-plaintext\"><pre>GetType</pre></div></td></tr><tr><td>ParamCount</td><td><div class=\"dni-plaintext\"><pre>5</pre></div></td></tr><tr><td>ReturnType</td><td><span><a href=\"https://docs.microsoft.com/dotnet/api/system.type?view=net-7.0\">System.Type</a></span></td></tr></tbody></table></div></details></td></tr><tr><td>7</td><td><details class=\"dni-treeview\"><summary><span class=\"dni-code-hint\"><code>{ Name = GetTypeFromHandle, ParamCount = 1, ReturnType = System.Type }</code></span></summary><div><table><thead><tr></tr></thead><tbody><tr><td>Name</td><td><div class=\"dni-plaintext\"><pre>GetTypeFromHandle</pre></div></td></tr><tr><td>ParamCount</td><td><div class=\"dni-plaintext\"><pre>1</pre></div></td></tr><tr><td>ReturnType</td><td><span><a href=\"https://docs.microsoft.com/dotnet/api/system.type?view=net-7.0\">System.Type</a></span></td></tr></tbody></table></div></details></td></tr><tr><td>8</td><td><details class=\"dni-treeview\"><summary><span class=\"dni-code-hint\"><code>{ Name = get_MemberType, ParamCount = 0, ReturnType = System.Reflection.MemberTypes }</code></span></summary><div><table><thead><tr></tr></thead><tbody><tr><td>Name</td><td><div class=\"dni-plaintext\"><pre>get_MemberType</pre></div></td></tr><tr><td>ParamCount</td><td><div class=\"dni-plaintext\"><pre>0</pre></div></td></tr><tr><td>ReturnType</td><td><span><a href=\"https://docs.microsoft.com/dotnet/api/system.reflection.membertypes?view=net-7.0\">System.Reflection.MemberTypes</a></span></td></tr></tbody></table></div></details></td></tr><tr><td>9</td><td><details class=\"dni-treeview\"><summary><span class=\"dni-code-hint\"><code>{ Name = GetType, ParamCount = 0, ReturnType = System.Type }</code></span></summary><div><table><thead><tr></tr></thead><tbody><tr><td>Name</td><td><div class=\"dni-plaintext\"><pre>GetType</pre></div></td></tr><tr><td>ParamCount</td><td><div class=\"dni-plaintext\"><pre>0</pre></div></td></tr><tr><td>ReturnType</td><td><span><a href=\"https://docs.microsoft.com/dotnet/api/system.type?view=net-7.0\">System.Type</a></span></td></tr></tbody></table></div></details></td></tr><tr><td>10</td><td><details class=\"dni-treeview\"><summary><span class=\"dni-code-hint\"><code>{ Name = get_Namespace, ParamCount = 0, ReturnType = System.String }</code></span></summary><div><table><thead><tr></tr></thead><tbody><tr><td>Name</td><td><div class=\"dni-plaintext\"><pre>get_Namespace</pre></div></td></tr><tr><td>ParamCount</td><td><div class=\"dni-plaintext\"><pre>0</pre></div></td></tr><tr><td>ReturnType</td><td><span><a href=\"https://docs.microsoft.com/dotnet/api/system.string?view=net-7.0\">System.String</a></span></td></tr></tbody></table></div></details></td></tr><tr><td>11</td><td><details class=\"dni-treeview\"><summary><span class=\"dni-code-hint\"><code>{ Name = get_AssemblyQualifiedName, ParamCount = 0, ReturnType = System.String }</code></span></summary><div><table><thead><tr></tr></thead><tbody><tr><td>Name</td><td><div class=\"dni-plaintext\"><pre>get_AssemblyQualifiedName</pre></div></td></tr><tr><td>ParamCount</td><td><div class=\"dni-plaintext\"><pre>0</pre></div></td></tr><tr><td>ReturnType</td><td><span><a href=\"https://docs.microsoft.com/dotnet/api/system.string?view=net-7.0\">System.String</a></span></td></tr></tbody></table></div></details></td></tr><tr><td>12</td><td><details class=\"dni-treeview\"><summary><span class=\"dni-code-hint\"><code>{ Name = get_FullName, ParamCount = 0, ReturnType = System.String }</code></span></summary><div><table><thead><tr></tr></thead><tbody><tr><td>Name</td><td><div class=\"dni-plaintext\"><pre>get_FullName</pre></div></td></tr><tr><td>ParamCount</td><td><div class=\"dni-plaintext\"><pre>0</pre></div></td></tr><tr><td>ReturnType</td><td><span><a href=\"https://docs.microsoft.com/dotnet/api/system.string?view=net-7.0\">System.String</a></span></td></tr></tbody></table></div></details></td></tr><tr><td>13</td><td><details class=\"dni-treeview\"><summary><span class=\"dni-code-hint\"><code>{ Name = get_Assembly, ParamCount = 0, ReturnType = System.Reflection.Assembly }</code></span></summary><div><table><thead><tr></tr></thead><tbody><tr><td>Name</td><td><div class=\"dni-plaintext\"><pre>get_Assembly</pre></div></td></tr><tr><td>ParamCount</td><td><div class=\"dni-plaintext\"><pre>0</pre></div></td></tr><tr><td>ReturnType</td><td><span><a href=\"https://docs.microsoft.com/dotnet/api/system.reflection.assembly?view=net-7.0\">System.Reflection.Assembly</a></span></td></tr></tbody></table></div></details></td></tr><tr><td>14</td><td><details class=\"dni-treeview\"><summary><span class=\"dni-code-hint\"><code>{ Name = get_Module, ParamCount = 0, ReturnType = System.Reflection.Module }</code></span></summary><div><table><thead><tr></tr></thead><tbody><tr><td>Name</td><td><div class=\"dni-plaintext\"><pre>get_Module</pre></div></td></tr><tr><td>ParamCount</td><td><div class=\"dni-plaintext\"><pre>0</pre></div></td></tr><tr><td>ReturnType</td><td><span><a href=\"https://docs.microsoft.com/dotnet/api/system.reflection.module?view=net-7.0\">System.Reflection.Module</a></span></td></tr></tbody></table></div></details></td></tr><tr><td>15</td><td><details class=\"dni-treeview\"><summary><span class=\"dni-code-hint\"><code>{ Name = get_IsNested, ParamCount = 0, ReturnType = System.Boolean }</code></span></summary><div><table><thead><tr></tr></thead><tbody><tr><td>Name</td><td><div class=\"dni-plaintext\"><pre>get_IsNested</pre></div></td></tr><tr><td>ParamCount</td><td><div class=\"dni-plaintext\"><pre>0</pre></div></td></tr><tr><td>ReturnType</td><td><span><a href=\"https://docs.microsoft.com/dotnet/api/system.boolean?view=net-7.0\">System.Boolean</a></span></td></tr></tbody></table></div></details></td></tr><tr><td>16</td><td><details class=\"dni-treeview\"><summary><span class=\"dni-code-hint\"><code>{ Name = get_DeclaringType, ParamCount = 0, ReturnType = System.Type }</code></span></summary><div><table><thead><tr></tr></thead><tbody><tr><td>Name</td><td><div class=\"dni-plaintext\"><pre>get_DeclaringType</pre></div></td></tr><tr><td>ParamCount</td><td><div class=\"dni-plaintext\"><pre>0</pre></div></td></tr><tr><td>ReturnType</td><td><span><a href=\"https://docs.microsoft.com/dotnet/api/system.type?view=net-7.0\">System.Type</a></span></td></tr></tbody></table></div></details></td></tr><tr><td>17</td><td><details class=\"dni-treeview\"><summary><span class=\"dni-code-hint\"><code>{ Name = get_DeclaringMethod, ParamCount = 0, ReturnType = System.Reflection.MethodBase }</code></span></summary><div><table><thead><tr></tr></thead><tbody><tr><td>Name</td><td><div class=\"dni-plaintext\"><pre>get_DeclaringMethod</pre></div></td></tr><tr><td>ParamCount</td><td><div class=\"dni-plaintext\"><pre>0</pre></div></td></tr><tr><td>ReturnType</td><td><span><a href=\"https://docs.microsoft.com/dotnet/api/system.reflection.methodbase?view=net-7.0\">System.Reflection.MethodBase</a></span></td></tr></tbody></table></div></details></td></tr><tr><td>18</td><td><details class=\"dni-treeview\"><summary><span class=\"dni-code-hint\"><code>{ Name = get_ReflectedType, ParamCount = 0, ReturnType = System.Type }</code></span></summary><div><table><thead><tr></tr></thead><tbody><tr><td>Name</td><td><div class=\"dni-plaintext\"><pre>get_ReflectedType</pre></div></td></tr><tr><td>ParamCount</td><td><div class=\"dni-plaintext\"><pre>0</pre></div></td></tr><tr><td>ReturnType</td><td><span><a href=\"https://docs.microsoft.com/dotnet/api/system.type?view=net-7.0\">System.Type</a></span></td></tr></tbody></table></div></details></td></tr><tr><td>19</td><td><details class=\"dni-treeview\"><summary><span class=\"dni-code-hint\"><code>{ Name = get_UnderlyingSystemType, ParamCount = 0, ReturnType = System.Type }</code></span></summary><div><table><thead><tr></tr></thead><tbody><tr><td>Name</td><td><div class=\"dni-plaintext\"><pre>get_UnderlyingSystemType</pre></div></td></tr><tr><td>ParamCount</td><td><div class=\"dni-plaintext\"><pre>0</pre></div></td></tr><tr><td>ReturnType</td><td><span><a href=\"https://docs.microsoft.com/dotnet/api/system.type?view=net-7.0\">System.Type</a></span></td></tr></tbody></table></div></details></td></tr><tr><td colspan=\"2\"><i>... (more)</i></td></tr></tbody></table><style>\r\n",
       ".dni-code-hint {\r\n",
       "    font-style: italic;\r\n",
       "    overflow: hidden;\r\n",
       "    white-space: nowrap;\r\n",
       "}\r\n",
       ".dni-treeview {\r\n",
       "    white-space: nowrap;\r\n",
       "}\r\n",
       ".dni-treeview td {\r\n",
       "    vertical-align: top;\r\n",
       "    text-align: start;\r\n",
       "}\r\n",
       "details.dni-treeview {\r\n",
       "    padding-left: 1em;\r\n",
       "}\r\n",
       "table td {\r\n",
       "    text-align: start;\r\n",
       "}\r\n",
       "table tr { \r\n",
       "    vertical-align: top; \r\n",
       "    margin: 0em 0px;\r\n",
       "}\r\n",
       "table tr td pre \r\n",
       "{ \r\n",
       "    vertical-align: top !important; \r\n",
       "    margin: 0em 0px !important;\r\n",
       "} \r\n",
       "table th {\r\n",
       "    text-align: start;\r\n",
       "}\r\n",
       "</style>"
      ]
     },
     "metadata": {},
     "output_type": "display_data"
    }
   ],
   "source": [
    "var typeInfo = typeof(Type);\n",
    "\n",
    "var methods = typeInfo.GetMethods().Select(m => new { m.Name, ParamCount = m.GetParameters().Count(), m.ReturnType });\n",
    "display(methods);"
   ]
  },
  {
   "cell_type": "code",
   "execution_count": null,
   "metadata": {},
   "outputs": [
    {
     "data": {
      "text/html": [
       "<table><thead><tr><th><i>index</i></th><th>value</th></tr></thead><tbody><tr><td>0</td><td><details class=\"dni-treeview\"><summary><span class=\"dni-code-hint\"><code>{ Name = get_Name, ParamCount = 0, ReturnType = System.String }</code></span></summary><div><table><thead><tr></tr></thead><tbody><tr><td>Name</td><td><div class=\"dni-plaintext\"><pre>get_Name</pre></div></td></tr><tr><td>ParamCount</td><td><div class=\"dni-plaintext\"><pre>0</pre></div></td></tr><tr><td>ReturnType</td><td><span><a href=\"https://docs.microsoft.com/dotnet/api/system.string?view=net-7.0\">System.String</a></span></td></tr></tbody></table></div></details></td></tr><tr><td>1</td><td><details class=\"dni-treeview\"><summary><span class=\"dni-code-hint\"><code>{ Name = set_Name, ParamCount = 1, ReturnType = System.Void }</code></span></summary><div><table><thead><tr></tr></thead><tbody><tr><td>Name</td><td><div class=\"dni-plaintext\"><pre>set_Name</pre></div></td></tr><tr><td>ParamCount</td><td><div class=\"dni-plaintext\"><pre>1</pre></div></td></tr><tr><td>ReturnType</td><td><span><a href=\"https://docs.microsoft.com/dotnet/api/system.void?view=net-7.0\">System.Void</a></span></td></tr></tbody></table></div></details></td></tr><tr><td>2</td><td><details class=\"dni-treeview\"><summary><span class=\"dni-code-hint\"><code>{ Name = M1, ParamCount = 2, ReturnType = System.Void }</code></span></summary><div><table><thead><tr></tr></thead><tbody><tr><td>Name</td><td><div class=\"dni-plaintext\"><pre>M1</pre></div></td></tr><tr><td>ParamCount</td><td><div class=\"dni-plaintext\"><pre>2</pre></div></td></tr><tr><td>ReturnType</td><td><span><a href=\"https://docs.microsoft.com/dotnet/api/system.void?view=net-7.0\">System.Void</a></span></td></tr></tbody></table></div></details></td></tr><tr><td>3</td><td><details class=\"dni-treeview\"><summary><span class=\"dni-code-hint\"><code>{ Name = M1, ParamCount = 3, ReturnType = System.Void }</code></span></summary><div><table><thead><tr></tr></thead><tbody><tr><td>Name</td><td><div class=\"dni-plaintext\"><pre>M1</pre></div></td></tr><tr><td>ParamCount</td><td><div class=\"dni-plaintext\"><pre>3</pre></div></td></tr><tr><td>ReturnType</td><td><span><a href=\"https://docs.microsoft.com/dotnet/api/system.void?view=net-7.0\">System.Void</a></span></td></tr></tbody></table></div></details></td></tr><tr><td>4</td><td><details class=\"dni-treeview\"><summary><span class=\"dni-code-hint\"><code>{ Name = M2, ParamCount = 1, ReturnType = System.Int32 }</code></span></summary><div><table><thead><tr></tr></thead><tbody><tr><td>Name</td><td><div class=\"dni-plaintext\"><pre>M2</pre></div></td></tr><tr><td>ParamCount</td><td><div class=\"dni-plaintext\"><pre>1</pre></div></td></tr><tr><td>ReturnType</td><td><span><a href=\"https://docs.microsoft.com/dotnet/api/system.int32?view=net-7.0\">System.Int32</a></span></td></tr></tbody></table></div></details></td></tr><tr><td>5</td><td><details class=\"dni-treeview\"><summary><span class=\"dni-code-hint\"><code>{ Name = GetType, ParamCount = 0, ReturnType = System.Type }</code></span></summary><div><table><thead><tr></tr></thead><tbody><tr><td>Name</td><td><div class=\"dni-plaintext\"><pre>GetType</pre></div></td></tr><tr><td>ParamCount</td><td><div class=\"dni-plaintext\"><pre>0</pre></div></td></tr><tr><td>ReturnType</td><td><span><a href=\"https://docs.microsoft.com/dotnet/api/system.type?view=net-7.0\">System.Type</a></span></td></tr></tbody></table></div></details></td></tr><tr><td>6</td><td><details class=\"dni-treeview\"><summary><span class=\"dni-code-hint\"><code>{ Name = ToString, ParamCount = 0, ReturnType = System.String }</code></span></summary><div><table><thead><tr></tr></thead><tbody><tr><td>Name</td><td><div class=\"dni-plaintext\"><pre>ToString</pre></div></td></tr><tr><td>ParamCount</td><td><div class=\"dni-plaintext\"><pre>0</pre></div></td></tr><tr><td>ReturnType</td><td><span><a href=\"https://docs.microsoft.com/dotnet/api/system.string?view=net-7.0\">System.String</a></span></td></tr></tbody></table></div></details></td></tr><tr><td>7</td><td><details class=\"dni-treeview\"><summary><span class=\"dni-code-hint\"><code>{ Name = Equals, ParamCount = 1, ReturnType = System.Boolean }</code></span></summary><div><table><thead><tr></tr></thead><tbody><tr><td>Name</td><td><div class=\"dni-plaintext\"><pre>Equals</pre></div></td></tr><tr><td>ParamCount</td><td><div class=\"dni-plaintext\"><pre>1</pre></div></td></tr><tr><td>ReturnType</td><td><span><a href=\"https://docs.microsoft.com/dotnet/api/system.boolean?view=net-7.0\">System.Boolean</a></span></td></tr></tbody></table></div></details></td></tr><tr><td>8</td><td><details class=\"dni-treeview\"><summary><span class=\"dni-code-hint\"><code>{ Name = GetHashCode, ParamCount = 0, ReturnType = System.Int32 }</code></span></summary><div><table><thead><tr></tr></thead><tbody><tr><td>Name</td><td><div class=\"dni-plaintext\"><pre>GetHashCode</pre></div></td></tr><tr><td>ParamCount</td><td><div class=\"dni-plaintext\"><pre>0</pre></div></td></tr><tr><td>ReturnType</td><td><span><a href=\"https://docs.microsoft.com/dotnet/api/system.int32?view=net-7.0\">System.Int32</a></span></td></tr></tbody></table></div></details></td></tr></tbody></table><style>\r\n",
       ".dni-code-hint {\r\n",
       "    font-style: italic;\r\n",
       "    overflow: hidden;\r\n",
       "    white-space: nowrap;\r\n",
       "}\r\n",
       ".dni-treeview {\r\n",
       "    white-space: nowrap;\r\n",
       "}\r\n",
       ".dni-treeview td {\r\n",
       "    vertical-align: top;\r\n",
       "    text-align: start;\r\n",
       "}\r\n",
       "details.dni-treeview {\r\n",
       "    padding-left: 1em;\r\n",
       "}\r\n",
       "table td {\r\n",
       "    text-align: start;\r\n",
       "}\r\n",
       "table tr { \r\n",
       "    vertical-align: top; \r\n",
       "    margin: 0em 0px;\r\n",
       "}\r\n",
       "table tr td pre \r\n",
       "{ \r\n",
       "    vertical-align: top !important; \r\n",
       "    margin: 0em 0px !important;\r\n",
       "} \r\n",
       "table th {\r\n",
       "    text-align: start;\r\n",
       "}\r\n",
       "</style>"
      ]
     },
     "metadata": {},
     "output_type": "display_data"
    }
   ],
   "source": [
    "class Person\n",
    "{\n",
    "    public string Name { get; set;}\n",
    "\n",
    "    public void M1(int a, int b) {}\n",
    "    public void M1(int a, int b, int c) {}\n",
    "    public int M2(int a) => a;\n",
    "}\n",
    "\n",
    "var typeInfo = typeof(Person);\n",
    "var methods = typeInfo.GetMethods().Select(m => new { m.Name, ParamCount = m.GetParameters().Count(), m.ReturnType });\n",
    "display(methods);"
   ]
  },
  {
   "cell_type": "markdown",
   "metadata": {},
   "source": [
    "# **Type** data type - how to use (for properties)"
   ]
  },
  {
   "cell_type": "code",
   "execution_count": null,
   "metadata": {},
   "outputs": [
    {
     "name": "stdout",
     "output_type": "stream",
     "text": [
      "Name: John\n",
      "LastName: Johnson\n",
      "Age: 0\n"
     ]
    }
   ],
   "source": [
    "class Person\n",
    "{\n",
    "    public string Name { get; set;}\n",
    "    public string LastName { get; set; }\n",
    "    public int Age { get; set;}\n",
    "}\n",
    "\n",
    "var person = new Person() { Name = \"John\", LastName = \"Johnson\" };\n",
    "var typeInfo = typeof(Person);\n",
    "\n",
    "foreach (var property in typeInfo.GetProperties())\n",
    "{\n",
    "    var value = property.GetValue(person);\n",
    "    Console.WriteLine($\"{property.Name}: {value}\");\n",
    "}"
   ]
  },
  {
   "cell_type": "code",
   "execution_count": null,
   "metadata": {},
   "outputs": [
    {
     "data": {
      "text/html": [
       "<details open=\"open\" class=\"dni-treeview\"><summary><span class=\"dni-code-hint\"><code>Submission#9+Person</code></span></summary><div><table><thead><tr></tr></thead><tbody><tr><td>Name</td><td><div class=\"dni-plaintext\"><pre>John</pre></div></td></tr><tr><td>LastName</td><td><div class=\"dni-plaintext\"><pre>Carl</pre></div></td></tr><tr><td>Age</td><td><div class=\"dni-plaintext\"><pre>0</pre></div></td></tr></tbody></table></div></details><style>\r\n",
       ".dni-code-hint {\r\n",
       "    font-style: italic;\r\n",
       "    overflow: hidden;\r\n",
       "    white-space: nowrap;\r\n",
       "}\r\n",
       ".dni-treeview {\r\n",
       "    white-space: nowrap;\r\n",
       "}\r\n",
       ".dni-treeview td {\r\n",
       "    vertical-align: top;\r\n",
       "    text-align: start;\r\n",
       "}\r\n",
       "details.dni-treeview {\r\n",
       "    padding-left: 1em;\r\n",
       "}\r\n",
       "table td {\r\n",
       "    text-align: start;\r\n",
       "}\r\n",
       "table tr { \r\n",
       "    vertical-align: top; \r\n",
       "    margin: 0em 0px;\r\n",
       "}\r\n",
       "table tr td pre \r\n",
       "{ \r\n",
       "    vertical-align: top !important; \r\n",
       "    margin: 0em 0px !important;\r\n",
       "} \r\n",
       "table th {\r\n",
       "    text-align: start;\r\n",
       "}\r\n",
       "</style>"
      ]
     },
     "metadata": {},
     "output_type": "display_data"
    }
   ],
   "source": [
    "var prop = typeInfo.GetProperty(\"LastName\");\n",
    "prop.SetValue(person, \"Carl\");\n",
    "display(person);"
   ]
  },
  {
   "cell_type": "markdown",
   "metadata": {},
   "source": [
    "# **Type** data type - how to use (for methods)"
   ]
  },
  {
   "cell_type": "code",
   "execution_count": null,
   "metadata": {},
   "outputs": [
    {
     "name": "stdout",
     "output_type": "stream",
     "text": [
      "John Johnson\r\n"
     ]
    }
   ],
   "source": [
    "class Person\n",
    "{\n",
    "    public string Name { get; set;}\n",
    "    public string LastName { get; set; }\n",
    "\n",
    "    public string GetDisplayName(string locale)\n",
    "    {\n",
    "        if (locale == \"lt-LT\")\n",
    "        {\n",
    "            return $\"{Name} {LastName}\";\n",
    "        }\n",
    "        return $\"{LastName}, {Name}\";\n",
    "    }\n",
    "}\n",
    "\n",
    "var person = new Person() { Name = \"John\", LastName = \"Johnson\"};\n",
    "var typeInfo = typeof(Person);\n",
    "\n",
    "var method = typeInfo.GetMethods().FirstOrDefault(m => m.Name == \"GetDisplayName\");\n",
    "var result = method.Invoke(person, new[] { \"lt-LT\" }); //var result = person.GetDisplayName(\"lt-LT\")\n",
    "Console.WriteLine(result);"
   ]
  },
  {
   "cell_type": "code",
   "execution_count": null,
   "metadata": {},
   "outputs": [
    {
     "name": "stdout",
     "output_type": "stream",
     "text": [
      "Johnson, John\r\n"
     ]
    }
   ],
   "source": [
    "result = method.Invoke(person, new[] { \"en-US\" });\n",
    "Console.WriteLine(result);"
   ]
  },
  {
   "cell_type": "markdown",
   "metadata": {},
   "source": [
    "# **Type** data type - how to use (for constructor)"
   ]
  },
  {
   "cell_type": "code",
   "execution_count": null,
   "metadata": {},
   "outputs": [
    {
     "data": {
      "text/html": [
       "<details open=\"open\" class=\"dni-treeview\"><summary><span class=\"dni-code-hint\"><code>Submission#13+Person</code></span></summary><div><table><thead><tr></tr></thead><tbody><tr><td>Name</td><td><div class=\"dni-plaintext\"><pre>John</pre></div></td></tr><tr><td>LastName</td><td><div class=\"dni-plaintext\"><pre>Johnson</pre></div></td></tr></tbody></table></div></details><style>\r\n",
       ".dni-code-hint {\r\n",
       "    font-style: italic;\r\n",
       "    overflow: hidden;\r\n",
       "    white-space: nowrap;\r\n",
       "}\r\n",
       ".dni-treeview {\r\n",
       "    white-space: nowrap;\r\n",
       "}\r\n",
       ".dni-treeview td {\r\n",
       "    vertical-align: top;\r\n",
       "    text-align: start;\r\n",
       "}\r\n",
       "details.dni-treeview {\r\n",
       "    padding-left: 1em;\r\n",
       "}\r\n",
       "table td {\r\n",
       "    text-align: start;\r\n",
       "}\r\n",
       "table tr { \r\n",
       "    vertical-align: top; \r\n",
       "    margin: 0em 0px;\r\n",
       "}\r\n",
       "table tr td pre \r\n",
       "{ \r\n",
       "    vertical-align: top !important; \r\n",
       "    margin: 0em 0px !important;\r\n",
       "} \r\n",
       "table th {\r\n",
       "    text-align: start;\r\n",
       "}\r\n",
       "</style>"
      ]
     },
     "metadata": {},
     "output_type": "display_data"
    }
   ],
   "source": [
    "class Person\n",
    "{\n",
    "    public string Name { get; set;}\n",
    "    public string LastName { get; set; }\n",
    "\n",
    "    public Person(string name, string lastName)\n",
    "    {\n",
    "        Name = name;\n",
    "        LastName = lastName;\n",
    "    }\n",
    "}\n",
    "\n",
    "var typeInfo = typeof(Person);\n",
    "var constructor = typeInfo.GetConstructors().FirstOrDefault();\n",
    "var person = constructor.Invoke(new []{ \"John\", \"Johnson\" }) as Person;\n",
    "\n",
    "display(person);"
   ]
  },
  {
   "cell_type": "code",
   "execution_count": null,
   "metadata": {},
   "outputs": [
    {
     "data": {
      "text/html": [
       "<details open=\"open\" class=\"dni-treeview\"><summary><span class=\"dni-code-hint\"><code>Submission#13+Person</code></span></summary><div><table><thead><tr></tr></thead><tbody><tr><td>Name</td><td><div class=\"dni-plaintext\"><pre>John</pre></div></td></tr><tr><td>LastName</td><td><div class=\"dni-plaintext\"><pre>Smith</pre></div></td></tr></tbody></table></div></details><style>\r\n",
       ".dni-code-hint {\r\n",
       "    font-style: italic;\r\n",
       "    overflow: hidden;\r\n",
       "    white-space: nowrap;\r\n",
       "}\r\n",
       ".dni-treeview {\r\n",
       "    white-space: nowrap;\r\n",
       "}\r\n",
       ".dni-treeview td {\r\n",
       "    vertical-align: top;\r\n",
       "    text-align: start;\r\n",
       "}\r\n",
       "details.dni-treeview {\r\n",
       "    padding-left: 1em;\r\n",
       "}\r\n",
       "table td {\r\n",
       "    text-align: start;\r\n",
       "}\r\n",
       "table tr { \r\n",
       "    vertical-align: top; \r\n",
       "    margin: 0em 0px;\r\n",
       "}\r\n",
       "table tr td pre \r\n",
       "{ \r\n",
       "    vertical-align: top !important; \r\n",
       "    margin: 0em 0px !important;\r\n",
       "} \r\n",
       "table th {\r\n",
       "    text-align: start;\r\n",
       "}\r\n",
       "</style>"
      ]
     },
     "metadata": {},
     "output_type": "display_data"
    }
   ],
   "source": [
    "person = constructor.Invoke(new []{ \"John\", \"Smith\" }) as Person;\n",
    "display(person);"
   ]
  }
 ],
 "metadata": {
  "kernelspec": {
   "display_name": ".NET (C#)",
   "language": "C#",
   "name": ".net-csharp"
  },
  "polyglot_notebook": {
   "kernelInfo": {
    "defaultKernelName": "csharp",
    "items": [
     {
      "aliases": [],
      "languageName": "csharp",
      "name": "csharp"
     }
    ]
   }
  }
 },
 "nbformat": 4,
 "nbformat_minor": 2
}
