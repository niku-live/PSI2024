{
 "cells": [
  {
   "cell_type": "markdown",
   "metadata": {},
   "source": [
    "# Code generation - what we want to achieve"
   ]
  },
  {
   "cell_type": "code",
   "execution_count": null,
   "metadata": {
    "dotnet_interactive": {
     "language": "csharp"
    },
    "polyglot_notebook": {
     "kernelName": "csharp"
    }
   },
   "outputs": [],
   "source": [
    "//namespace Samples\n",
    "//{\n",
    "  using System;\n",
    "  public class HelloWorld\n",
    "  {\n",
    "    public HelloWorld()\n",
    "    {\n",
    "      System.Console.WriteLine(\"Hello World!!\");\n",
    "       writeHelloWorld();\n",
    "    }\n",
    "    private void writeHelloWorld()\n",
    "    {\n",
    "       System.Console.WriteLine(\"Hello World!!\");\n",
    "    }\n",
    "    public static void Main()\n",
    "    {\n",
    "       HelloWorld hw = new HelloWorld();\n",
    "    }\n",
    "  }\n",
    "//}"
   ]
  },
  {
   "cell_type": "code",
   "execution_count": null,
   "metadata": {},
   "outputs": [
    {
     "name": "stdout",
     "output_type": "stream",
     "text": [
      "Hello World!!\n",
      "Hello World!!\n"
     ]
    }
   ],
   "source": [
    "new HelloWorld();"
   ]
  },
  {
   "cell_type": "markdown",
   "metadata": {},
   "source": [
    "# Code generation"
   ]
  },
  {
   "cell_type": "code",
   "execution_count": null,
   "metadata": {},
   "outputs": [
    {
     "data": {
      "text/html": [
       "<div><div></div><div></div><div><strong>Installed Packages</strong><ul><li><span>Microsoft.CodeAnalysis.CSharp, 4.11.0</span></li><li><span>System.CodeDom, 8.0.0</span></li><li><span>System.Runtime.Loader, 4.3.0</span></li></ul></div></div>"
      ]
     },
     "metadata": {},
     "output_type": "display_data"
    }
   ],
   "source": [
    "#r \"nuget:Microsoft.CodeAnalysis.CSharp\"\n",
    "#r \"nuget:System.Runtime.Loader\"\n",
    "#r \"nuget:System.CodeDom\"\n",
    "\n",
    "using System.IO;\n",
    "using System.CodeDom;\n",
    "using System.CodeDom.Compiler;\n",
    "using Microsoft.CSharp;\n",
    "\n",
    "//output file name\n",
    "string fileName = \"HelloWorld3.cs\";\n",
    "//text writer to write the code\n",
    "TextWriter tw = new StreamWriter(new FileStream(fileName, FileMode.Create));\n",
    "//code generator and code provider\n",
    "CSharpCodeProvider cdp = new CSharpCodeProvider();\n",
    "\n",
    "//Create Namespace\n",
    "CodeNamespace Samples = new CodeNamespace(\"Samples\");\n",
    "//Add usings\n",
    "Samples.Imports.Add(new CodeNamespaceImport(\"System\"));\n",
    "//Create class\n",
    "CodeTypeDeclaration Class1 = new CodeTypeDeclaration(\"HelloWorld\");\n",
    "Samples.Types.Add(Class1);\n",
    "Class1.IsClass = true;\n",
    "\n",
    "//Add constructor\n",
    "CodeConstructor codeConstructor = new CodeConstructor();\n",
    "codeConstructor.Attributes = MemberAttributes.Public;\n",
    "codeConstructor.Statements.Add(new CodeSnippetStatement(\"System.Console.WriteLine(\\\"Hello World!!\\\");\"));\n",
    "codeConstructor.Statements.Add(new CodeMethodInvokeExpression(null, \"writeHelloWorld\"));\n",
    "Class1.Members.Add(codeConstructor);\n",
    "\n",
    "//Add writeHelloWorld method\n",
    "CodeMemberMethod Method1 = new CodeMemberMethod();\n",
    "Method1.Name = \"writeHelloWorld\";\n",
    "Method1.ReturnType = new CodeTypeReference(typeof(void));\n",
    "CodeMethodInvokeExpression cs1 = new CodeMethodInvokeExpression(new CodeTypeReferenceExpression(\"System.Console\"), \"WriteLine\", new CodePrimitiveExpression(\"Hello World!!\"));\n",
    "Method1.Statements.Add(cs1);\n",
    "Class1.Members.Add(Method1);\n",
    "\n",
    "//Add Main method\n",
    "CodeEntryPointMethod Start = new CodeEntryPointMethod();\n",
    "Start.Statements.Add(new CodeSnippetStatement(\"HelloWorld hw = new HelloWorld();\"));\n",
    "Class1.Members.Add(Start);\n",
    "\n",
    "//Generate code\n",
    "cdp.GenerateCodeFromNamespace(Samples, tw, null);\n",
    "tw.Close();"
   ]
  },
  {
   "cell_type": "markdown",
   "metadata": {},
   "source": [
    "# Dynamic Code Compilation and Execution"
   ]
  },
  {
   "cell_type": "code",
   "execution_count": null,
   "metadata": {},
   "outputs": [
    {
     "data": {
      "text/html": [
       "<div><div></div><div></div><div><strong>Installed Packages</strong><ul><li><span>Microsoft.CodeAnalysis.CSharp, 4.11.0</span></li><li><span>System.Runtime.Loader, 4.3.0</span></li></ul></div></div>"
      ]
     },
     "metadata": {},
     "output_type": "display_data"
    },
    {
     "data": {
      "text/plain": [
       "Adding the following references"
      ]
     },
     "metadata": {},
     "output_type": "display_data"
    },
    {
     "data": {
      "text/html": [
       "<div class=\"dni-plaintext\"><pre>[ C:\\Program Files\\dotnet\\shared\\Microsoft.NETCore.App\\8.0.10\\System.Private.CoreLib.dll, C:\\Program Files\\dotnet\\shared\\Microsoft.NETCore.App\\8.0.10\\System.Console.dll, C:\\Program Files\\dotnet\\shared\\Microsoft.NETCore.App\\8.0.10\\System.Runtime.dll ]</pre></div><style>\r\n",
       ".dni-code-hint {\r\n",
       "    font-style: italic;\r\n",
       "    overflow: hidden;\r\n",
       "    white-space: nowrap;\r\n",
       "}\r\n",
       ".dni-treeview {\r\n",
       "    white-space: nowrap;\r\n",
       "}\r\n",
       ".dni-treeview td {\r\n",
       "    vertical-align: top;\r\n",
       "    text-align: start;\r\n",
       "}\r\n",
       "details.dni-treeview {\r\n",
       "    padding-left: 1em;\r\n",
       "}\r\n",
       "table td {\r\n",
       "    text-align: start;\r\n",
       "}\r\n",
       "table tr { \r\n",
       "    vertical-align: top; \r\n",
       "    margin: 0em 0px;\r\n",
       "}\r\n",
       "table tr td pre \r\n",
       "{ \r\n",
       "    vertical-align: top !important; \r\n",
       "    margin: 0em 0px !important;\r\n",
       "} \r\n",
       "table th {\r\n",
       "    text-align: start;\r\n",
       "}\r\n",
       "</style>"
      ]
     },
     "metadata": {},
     "output_type": "display_data"
    },
    {
     "data": {
      "text/plain": [
       "Compiling ..."
      ]
     },
     "metadata": {},
     "output_type": "display_data"
    },
    {
     "data": {
      "text/plain": [
       "Compilation successful! Now instantiating and executing the code ..."
      ]
     },
     "metadata": {},
     "output_type": "display_data"
    },
    {
     "name": "stdout",
     "output_type": "stream",
     "text": [
      "Hello World!!\n",
      "Hello World!!\n"
     ]
    }
   ],
   "source": [
    "#r \"nuget:Microsoft.CodeAnalysis.CSharp\"\n",
    "#r \"nuget:System.Runtime.Loader\"\n",
    "\n",
    "using System;\n",
    "using System.Collections.Generic;\n",
    "using System.IO;\n",
    "using System.Linq;\n",
    "using System.Reflection;\n",
    "using System.Runtime.Loader;\n",
    "using Microsoft.CodeAnalysis;\n",
    "using Microsoft.CodeAnalysis.CSharp;\n",
    "using Microsoft.CodeAnalysis.Emit;\n",
    "\n",
    "SyntaxTree syntaxTree = CSharpSyntaxTree.ParseText(File.ReadAllText(fileName));\n",
    "string assemblyName = Path.GetRandomFileName();\n",
    "var refPaths = new [] {\n",
    "    typeof(System.Object).GetTypeInfo().Assembly.Location,\n",
    "    typeof(Console).GetTypeInfo().Assembly.Location,\n",
    "    Path.Combine(Path.GetDirectoryName(typeof(System.Runtime.GCSettings).GetTypeInfo().Assembly.Location), \"System.Runtime.dll\")\n",
    "};\n",
    "MetadataReference[] references = refPaths.Select(r => MetadataReference.CreateFromFile(r)).ToArray();\n",
    "\n",
    "display(\"Adding the following references\");\n",
    "display(refPaths);\n",
    "\n",
    "display(\"Compiling ...\");\n",
    "CSharpCompilation compilation = CSharpCompilation.Create(\n",
    "    assemblyName,\n",
    "    syntaxTrees: new[] { syntaxTree },\n",
    "    references: references,\n",
    "    options: new CSharpCompilationOptions(OutputKind.DynamicallyLinkedLibrary));\n",
    "\n",
    "    using (var ms = new MemoryStream())\n",
    "    {\n",
    "        EmitResult result = compilation.Emit(ms);\n",
    "\n",
    "        if (!result.Success)\n",
    "        {\n",
    "            display(\"Compilation failed!\");\n",
    "            IEnumerable<Diagnostic> failures = result.Diagnostics.Where(diagnostic => \n",
    "                diagnostic.IsWarningAsError || \n",
    "                diagnostic.Severity == DiagnosticSeverity.Error);\n",
    "\n",
    "            foreach (Diagnostic diagnostic in failures)\n",
    "            {\n",
    "                Console.Error.WriteLine(\"\\t{0}: {1}\", diagnostic.Id, diagnostic.GetMessage());\n",
    "            }\n",
    "        }\n",
    "        else\n",
    "        {\n",
    "            display(\"Compilation successful! Now instantiating and executing the code ...\");\n",
    "            ms.Seek(0, SeekOrigin.Begin);\n",
    "            \n",
    "            Assembly assembly = AssemblyLoadContext.Default.LoadFromStream(ms);\n",
    "            var type= assembly.GetType(\"Samples.HelloWorld\");\n",
    "            var instance = assembly.CreateInstance(\"Samples.HelloWorld\");\n",
    "            //var meth = type.GetMember(\"writeHelloWorld\").First() as MethodInfo;\n",
    "            //meth.Invoke(instance, new object[0]);\n",
    "        }\n",
    "    }"
   ]
  },
  {
   "cell_type": "code",
   "execution_count": null,
   "metadata": {},
   "outputs": [],
   "source": [
    "//.NET 4\n",
    "\n",
    "using System.IO;\n",
    "using System.CodeDom;\n",
    "using System.CodeDom.Compiler;\n",
    "using Microsoft.CSharp;\n",
    "\n",
    "var charpProvider = new CSharpCodeProvider();\n",
    "CompilerParameters cp = new CompilerParameters();\n",
    "cp.ReferencedAssemblies.Add(\"system.dll\"); //includes\n",
    "cp.GenerateExecutable = true; //generate executable\n",
    "CompilerResults cr = charpProvider.CompileAssemblyFromFile(cp, fileName);\n",
    "if(cr.Errors.HasErrors)\n",
    "{\n",
    "  StringBuilder error = new StringBuilder();\n",
    "  error.Append(\"Error Compiling Expression: \");\n",
    "  foreach (CompilerError err in cr.Errors)\n",
    "  {\n",
    "    error.AppendFormat(\"{0}\\n\", err.ErrorText);\n",
    "  }\n",
    "  throw new Exception(\"Error Compiling Expression: \" + error.ToString());\n",
    "}\n",
    "System.Reflection.Assembly a = cr.CompiledAssembly;\n",
    "var compiled = a.CreateInstance(\"Samples.HelloWorld\");"
   ]
  }
 ],
 "metadata": {
  "kernelspec": {
   "display_name": ".NET (C#)",
   "language": "C#",
   "name": ".net-csharp"
  },
  "polyglot_notebook": {
   "kernelInfo": {
    "defaultKernelName": "csharp",
    "items": [
     {
      "aliases": [],
      "languageName": "csharp",
      "name": "csharp"
     }
    ]
   }
  }
 },
 "nbformat": 4,
 "nbformat_minor": 2
}
