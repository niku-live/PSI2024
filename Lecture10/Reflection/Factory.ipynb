{
 "cells": [
  {
   "cell_type": "markdown",
   "metadata": {},
   "source": [
    "# Assembly data type - Generic Factory"
   ]
  },
  {
   "cell_type": "code",
   "execution_count": null,
   "metadata": {
    "dotnet_interactive": {
     "language": "csharp"
    },
    "polyglot_notebook": {
     "kernelName": "csharp"
    }
   },
   "outputs": [
    {
     "data": {
      "text/plain": [
       "Car"
      ]
     },
     "metadata": {},
     "output_type": "display_data"
    },
    {
     "data": {
      "text/plain": [
       "Truck"
      ]
     },
     "metadata": {},
     "output_type": "display_data"
    },
    {
     "data": {
      "text/plain": [
       "Unknown"
      ]
     },
     "metadata": {},
     "output_type": "display_data"
    },
    {
     "data": {
      "text/plain": [
       "Ferrari"
      ]
     },
     "metadata": {},
     "output_type": "display_data"
    },
    {
     "data": {
      "text/plain": [
       "Unknown"
      ]
     },
     "metadata": {},
     "output_type": "display_data"
    },
    {
     "data": {
      "text/plain": [
       "Unknown"
      ]
     },
     "metadata": {},
     "output_type": "display_data"
    }
   ],
   "source": [
    "public interface IMachine { string Name {get;} }\n",
    "\n",
    "public class Car: IMachine {  public string Name => \"Car\"; }\n",
    "public class Truck: IMachine {  public string Name => \"Truck\"; }\n",
    "public class UnknownMachine: IMachine {  public string Name => \"Unknown\"; }\n",
    "public class SportCar: IMachine {  public string Name => \"Ferrari\"; }\n",
    "//public class LamboCar: IMachine {  public string Name => \"Lambo\"; }\n",
    "//public class VazCar {  public string Name => \"Vaz\"; }\n",
    "\n",
    "public class MachineFactory\n",
    "{\n",
    "    Dictionary<string, Type> machines;\n",
    "    public MachineFactory() => LoadTypesICanReturn();\n",
    "\n",
    "    public IMachine CreateInstance(string description)\n",
    "    {\n",
    "        Type t = GetTypeToCreate(description) ?? typeof(UnknownMachine);\n",
    "        return Activator.CreateInstance(t) as IMachine;\n",
    "    }\n",
    "\n",
    "    private Type GetTypeToCreate(string machineName)\n",
    "    {\n",
    "        return machines.FirstOrDefault(m => m.Key.Contains(machineName)).Value;\n",
    "    }\n",
    "\n",
    "    private void LoadTypesICanReturn()\n",
    "    {\n",
    "        machines = new Dictionary<string, Type>();\n",
    "        var machineInterfaceType = typeof(IMachine);\n",
    "\n",
    "        Type[] typesInThisAssembly = System.Reflection.Assembly.GetExecutingAssembly().GetTypes();\n",
    "\n",
    "        foreach (Type type in typesInThisAssembly)\n",
    "        {                        \n",
    "            if (type.GetInterfaces().Any(i => i.Name == machineInterfaceType.Name))\n",
    "            {                \n",
    "                machines.Add(type.Name.ToLower(), type);\n",
    "            }\n",
    "        }\n",
    "    }\n",
    "}\n",
    "\n",
    "var factory = new MachineFactory();\n",
    "\n",
    "var machine = factory.CreateInstance(\"car\");\n",
    "display(machine.Name);\n",
    "\n",
    "machine = factory.CreateInstance(\"truck\");\n",
    "display(machine.Name);\n",
    "\n",
    "machine = factory.CreateInstance(\"FuturisticCar\");\n",
    "display(machine.Name);\n",
    "\n",
    "machine = factory.CreateInstance(\"sport\");\n",
    "display(machine.Name);\n",
    "\n",
    "machine = factory.CreateInstance(\"lambo\");\n",
    "display(machine.Name);\n",
    "\n",
    "machine = factory.CreateInstance(\"vaz\");\n",
    "display(machine.Name);"
   ]
  }
 ],
 "metadata": {
  "kernelspec": {
   "display_name": ".NET (C#)",
   "language": "C#",
   "name": ".net-csharp"
  },
  "polyglot_notebook": {
   "kernelInfo": {
    "defaultKernelName": "csharp",
    "items": [
     {
      "aliases": [],
      "languageName": "csharp",
      "name": "csharp"
     }
    ]
   }
  }
 },
 "nbformat": 4,
 "nbformat_minor": 2
}
