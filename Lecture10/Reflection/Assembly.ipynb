{
 "cells": [
  {
   "cell_type": "markdown",
   "metadata": {},
   "source": [
    "# Assembly data type"
   ]
  },
  {
   "cell_type": "code",
   "execution_count": null,
   "metadata": {
    "dotnet_interactive": {
     "language": "csharp"
    },
    "polyglot_notebook": {
     "kernelName": "csharp"
    }
   },
   "outputs": [
    {
     "data": {
      "text/plain": [
       "System.Private.CoreLib, Version=8.0.0.0, Culture=neutral, PublicKeyToken=7cec85d7bea7798e"
      ]
     },
     "metadata": {},
     "output_type": "display_data"
    }
   ],
   "source": [
    "var assembly = typeof(string).Assembly;\n",
    "display(assembly.FullName);"
   ]
  },
  {
   "cell_type": "code",
   "execution_count": null,
   "metadata": {},
   "outputs": [
    {
     "data": {
      "text/html": [
       "<div><div></div><div></div><div><strong>Installed Packages</strong><ul><li><span>Newtonsoft.Json, 13.0.3</span></li></ul></div></div>"
      ]
     },
     "metadata": {},
     "output_type": "display_data"
    },
    {
     "data": {
      "text/plain": [
       "Newtonsoft.Json, Version=13.0.0.0, Culture=neutral, PublicKeyToken=30ad4fe6b2a6aeed"
      ]
     },
     "metadata": {},
     "output_type": "display_data"
    }
   ],
   "source": [
    "#r \"nuget:Newtonsoft.Json\"\n",
    "assembly = typeof(Newtonsoft.Json.JsonConvert).Assembly;\n",
    "display(assembly.FullName);"
   ]
  },
  {
   "cell_type": "code",
   "execution_count": null,
   "metadata": {},
   "outputs": [
    {
     "data": {
      "text/plain": [
       "ℛ*5c1446bf-ae79-426e-8b57-9b456f78b69d#1-3, Version=0.0.0.0, Culture=neutral, PublicKeyToken=null"
      ]
     },
     "metadata": {},
     "output_type": "display_data"
    }
   ],
   "source": [
    "class Person\n",
    "{\n",
    "    public string Name { get; set;}\n",
    "    public string LastName { get; set; }\n",
    "}\n",
    "\n",
    "assembly = typeof(Person).Assembly;\n",
    "display(assembly.FullName);"
   ]
  },
  {
   "cell_type": "code",
   "execution_count": null,
   "metadata": {},
   "outputs": [
    {
     "data": {
      "text/plain": [
       "ℛ*5c1446bf-ae79-426e-8b57-9b456f78b69d#1-4, Version=0.0.0.0, Culture=neutral, PublicKeyToken=null"
      ]
     },
     "metadata": {},
     "output_type": "display_data"
    }
   ],
   "source": [
    "assembly = System.Reflection.Assembly.GetExecutingAssembly();\n",
    "display(assembly.FullName);"
   ]
  },
  {
   "cell_type": "markdown",
   "metadata": {},
   "source": [
    "# Assembly data type - retrieving types"
   ]
  },
  {
   "cell_type": "code",
   "execution_count": null,
   "metadata": {},
   "outputs": [
    {
     "data": {
      "text/html": [
       "<div><div></div><div></div><div><strong>Installed Packages</strong><ul><li><span>Newtonsoft.Json, 13.0.3</span></li></ul></div></div>"
      ]
     },
     "metadata": {},
     "output_type": "display_data"
    },
    {
     "data": {
      "text/plain": [
       "Newtonsoft.Json, Version=13.0.0.0, Culture=neutral, PublicKeyToken=30ad4fe6b2a6aeed"
      ]
     },
     "metadata": {},
     "output_type": "display_data"
    },
    {
     "data": {
      "text/html": [
       "<div class=\"dni-plaintext\"><pre>[ Microsoft.CodeAnalysis.EmbeddedAttribute, System.Runtime.CompilerServices.NullableAttribute, System.Runtime.CompilerServices.NullableContextAttribute, Newtonsoft.Json.ConstructorHandling, Newtonsoft.Json.DateFormatHandling, Newtonsoft.Json.DateParseHandling, Newtonsoft.Json.DateTimeZoneHandling, Newtonsoft.Json.DefaultJsonNameTable, Newtonsoft.Json.DefaultValueHandling, Newtonsoft.Json.FloatFormatHandling, Newtonsoft.Json.FloatParseHandling, Newtonsoft.Json.Formatting, Newtonsoft.Json.IArrayPool`1, Newtonsoft.Json.IJsonLineInfo, Newtonsoft.Json.JsonArrayAttribute, Newtonsoft.Json.JsonConstructorAttribute, Newtonsoft.Json.JsonContainerAttribute, Newtonsoft.Json.JsonConvert, Newtonsoft.Json.JsonConverter, Newtonsoft.Json.JsonConverter`1 ... (more) ]</pre></div><style>\r\n",
       ".dni-code-hint {\r\n",
       "    font-style: italic;\r\n",
       "    overflow: hidden;\r\n",
       "    white-space: nowrap;\r\n",
       "}\r\n",
       ".dni-treeview {\r\n",
       "    white-space: nowrap;\r\n",
       "}\r\n",
       ".dni-treeview td {\r\n",
       "    vertical-align: top;\r\n",
       "    text-align: start;\r\n",
       "}\r\n",
       "details.dni-treeview {\r\n",
       "    padding-left: 1em;\r\n",
       "}\r\n",
       "table td {\r\n",
       "    text-align: start;\r\n",
       "}\r\n",
       "table tr { \r\n",
       "    vertical-align: top; \r\n",
       "    margin: 0em 0px;\r\n",
       "}\r\n",
       "table tr td pre \r\n",
       "{ \r\n",
       "    vertical-align: top !important; \r\n",
       "    margin: 0em 0px !important;\r\n",
       "} \r\n",
       "table th {\r\n",
       "    text-align: start;\r\n",
       "}\r\n",
       "</style>"
      ]
     },
     "metadata": {},
     "output_type": "display_data"
    }
   ],
   "source": [
    "#r \"nuget:Newtonsoft.Json\"\n",
    "\n",
    "var assembly = typeof(Newtonsoft.Json.JsonConvert).Assembly;\n",
    "display(assembly.FullName);\n",
    "var types = assembly.GetTypes().Select(t => t.FullName);\n",
    "display(types);"
   ]
  },
  {
   "cell_type": "code",
   "execution_count": null,
   "metadata": {},
   "outputs": [
    {
     "data": {
      "text/plain": [
       "System.Private.CoreLib, Version=8.0.0.0, Culture=neutral, PublicKeyToken=7cec85d7bea7798e"
      ]
     },
     "metadata": {},
     "output_type": "display_data"
    },
    {
     "data": {
      "text/html": [
       "<div class=\"dni-plaintext\"><pre>[ Interop, Interop+OleAut32, Interop+Globalization, Interop+Globalization+ResultCode, Interop+BOOL, Interop+Kernel32, Interop+Kernel32+NlsVersionInfoEx, Interop+Kernel32+OVERLAPPED_ENTRY, Interop+Kernel32+CONDITION_VARIABLE, Interop+Kernel32+BY_HANDLE_FILE_INFORMATION, Interop+Kernel32+CRITICAL_SECTION, Interop+Kernel32+FILE_BASIC_INFO, Interop+Kernel32+FILE_ALLOCATION_INFO, Interop+Kernel32+FILE_END_OF_FILE_INFO, Interop+Kernel32+FILE_STANDARD_INFO, Interop+Kernel32+FILE_TIME, Interop+Kernel32+FINDEX_INFO_LEVELS, Interop+Kernel32+FINDEX_SEARCH_OPS, Interop+Kernel32+GET_FILEEX_INFO_LEVELS, Interop+Kernel32+CPINFO ... (more) ]</pre></div><style>\r\n",
       ".dni-code-hint {\r\n",
       "    font-style: italic;\r\n",
       "    overflow: hidden;\r\n",
       "    white-space: nowrap;\r\n",
       "}\r\n",
       ".dni-treeview {\r\n",
       "    white-space: nowrap;\r\n",
       "}\r\n",
       ".dni-treeview td {\r\n",
       "    vertical-align: top;\r\n",
       "    text-align: start;\r\n",
       "}\r\n",
       "details.dni-treeview {\r\n",
       "    padding-left: 1em;\r\n",
       "}\r\n",
       "table td {\r\n",
       "    text-align: start;\r\n",
       "}\r\n",
       "table tr { \r\n",
       "    vertical-align: top; \r\n",
       "    margin: 0em 0px;\r\n",
       "}\r\n",
       "table tr td pre \r\n",
       "{ \r\n",
       "    vertical-align: top !important; \r\n",
       "    margin: 0em 0px !important;\r\n",
       "} \r\n",
       "table th {\r\n",
       "    text-align: start;\r\n",
       "}\r\n",
       "</style>"
      ]
     },
     "metadata": {},
     "output_type": "display_data"
    }
   ],
   "source": [
    "var assembly = typeof(string).Assembly;\n",
    "display(assembly.FullName);\n",
    "var types = assembly.GetTypes().Select(t => t.FullName);\n",
    "display(types);"
   ]
  },
  {
   "cell_type": "code",
   "execution_count": null,
   "metadata": {},
   "outputs": [
    {
     "data": {
      "text/plain": [
       "ℛ*5c1446bf-ae79-426e-8b57-9b456f78b69d#1-7, Version=0.0.0.0, Culture=neutral, PublicKeyToken=null"
      ]
     },
     "metadata": {},
     "output_type": "display_data"
    },
    {
     "data": {
      "text/html": [
       "<div class=\"dni-plaintext\"><pre>[ Submission#7, Submission#7+Person, Submission#7+TestEnum, Submission#7+TestDelegate, Submission#7+&lt;&lt;Initialize&gt;&gt;d__0, Submission#7+&lt;&gt;c ]</pre></div><style>\r\n",
       ".dni-code-hint {\r\n",
       "    font-style: italic;\r\n",
       "    overflow: hidden;\r\n",
       "    white-space: nowrap;\r\n",
       "}\r\n",
       ".dni-treeview {\r\n",
       "    white-space: nowrap;\r\n",
       "}\r\n",
       ".dni-treeview td {\r\n",
       "    vertical-align: top;\r\n",
       "    text-align: start;\r\n",
       "}\r\n",
       "details.dni-treeview {\r\n",
       "    padding-left: 1em;\r\n",
       "}\r\n",
       "table td {\r\n",
       "    text-align: start;\r\n",
       "}\r\n",
       "table tr { \r\n",
       "    vertical-align: top; \r\n",
       "    margin: 0em 0px;\r\n",
       "}\r\n",
       "table tr td pre \r\n",
       "{ \r\n",
       "    vertical-align: top !important; \r\n",
       "    margin: 0em 0px !important;\r\n",
       "} \r\n",
       "table th {\r\n",
       "    text-align: start;\r\n",
       "}\r\n",
       "</style>"
      ]
     },
     "metadata": {},
     "output_type": "display_data"
    }
   ],
   "source": [
    "class Person\n",
    "{\n",
    "    public string Name { get; set;}\n",
    "    public string LastName { get; set; }\n",
    "}\n",
    "\n",
    "enum TestEnum\n",
    "{\n",
    "    Value1,\n",
    "    Value2\n",
    "}\n",
    "\n",
    "delegate void TestDelegate(int a, int b);\n",
    "\n",
    "assembly = System.Reflection.Assembly.GetExecutingAssembly();\n",
    "display(assembly.FullName);\n",
    "var types = assembly.GetTypes().Select(t => t.FullName);\n",
    "display(types);"
   ]
  }
 ],
 "metadata": {
  "kernelspec": {
   "display_name": ".NET (C#)",
   "language": "C#",
   "name": ".net-csharp"
  },
  "polyglot_notebook": {
   "kernelInfo": {
    "defaultKernelName": "csharp",
    "items": [
     {
      "aliases": [],
      "languageName": "csharp",
      "name": "csharp"
     }
    ]
   }
  }
 },
 "nbformat": 4,
 "nbformat_minor": 2
}
