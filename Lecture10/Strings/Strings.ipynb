{
 "cells": [
  {
   "cell_type": "markdown",
   "metadata": {},
   "source": [
    "# String Constants"
   ]
  },
  {
   "cell_type": "markdown",
   "metadata": {},
   "source": [
    "### Simple string constant"
   ]
  },
  {
   "cell_type": "code",
   "execution_count": null,
   "metadata": {
    "dotnet_interactive": {
     "language": "csharp"
    },
    "polyglot_notebook": {
     "kernelName": "csharp"
    }
   },
   "outputs": [],
   "source": [
    "string name = \"John\";\n",
    "string s = String.Empty;\n",
    "\n",
    "display(\"-----------------\");\n",
    "\n",
    "s = \"Default representation C:\\\\Test \\\" \";\n",
    "display(s);\n",
    "display(\"-----------------\");"
   ]
  },
  {
   "cell_type": "markdown",
   "metadata": {},
   "source": [
    "### Ignoring escapes"
   ]
  },
  {
   "cell_type": "code",
   "execution_count": null,
   "metadata": {
    "dotnet_interactive": {
     "language": "csharp"
    },
    "polyglot_notebook": {
     "kernelName": "csharp"
    }
   },
   "outputs": [],
   "source": [
    "s = @\"Escapes \\ ignored C:\\Test \"\" \";\n",
    "display(s);\n",
    "display(\"-----------------\");"
   ]
  },
  {
   "cell_type": "markdown",
   "metadata": {},
   "source": [
    "### Multiline string"
   ]
  },
  {
   "cell_type": "code",
   "execution_count": null,
   "metadata": {
    "dotnet_interactive": {
     "language": "csharp"
    },
    "polyglot_notebook": {
     "kernelName": "csharp"
    }
   },
   "outputs": [],
   "source": [
    "s = @\"\n",
    "Multiline string\n",
    "Second line\n",
    "Third line\n",
    "\";\n",
    "display(s);\n",
    "display(\"-----------------\");"
   ]
  },
  {
   "cell_type": "markdown",
   "metadata": {},
   "source": [
    "### Interpolated string"
   ]
  },
  {
   "cell_type": "code",
   "execution_count": null,
   "metadata": {
    "dotnet_interactive": {
     "language": "csharp"
    },
    "polyglot_notebook": {
     "kernelName": "csharp"
    }
   },
   "outputs": [],
   "source": [
    "s = $\"Interpolated |{name}|  |{1+2}|\";\n",
    "display(s);\n",
    "display(\"-----------------\");"
   ]
  },
  {
   "cell_type": "markdown",
   "metadata": {},
   "source": [
    "### Interpolated formatted string"
   ]
  },
  {
   "cell_type": "code",
   "execution_count": null,
   "metadata": {
    "dotnet_interactive": {
     "language": "csharp"
    },
    "polyglot_notebook": {
     "kernelName": "csharp"
    }
   },
   "outputs": [],
   "source": [
    "s = $\"Interpolated & formated |{name, 5}|  |{1+2,10}|0x{1+2,-10:X3}|\";\n",
    "display(s);\n",
    "display(\"-----------------\");"
   ]
  },
  {
   "cell_type": "markdown",
   "metadata": {},
   "source": [
    "### Interpolated formatted multiline string"
   ]
  },
  {
   "cell_type": "code",
   "execution_count": null,
   "metadata": {
    "dotnet_interactive": {
     "language": "csharp"
    },
    "polyglot_notebook": {
     "kernelName": "csharp"
    }
   },
   "outputs": [],
   "source": [
    "s = $@\"\n",
    "Interpolated & formated |{name, 5}|  |{1+2,10}|0x{1+2,-10:X3}|\n",
    "Second line             |{\" \",5}|  |{10+8,10}|0x{10+8,-10:X3}|\n",
    "\";\n",
    "display(s);\n",
    "display(\"-----------------\");"
   ]
  },
  {
   "cell_type": "markdown",
   "metadata": {},
   "source": [
    "# String Concatenation vs format vs interpolation"
   ]
  },
  {
   "cell_type": "markdown",
   "metadata": {},
   "source": [
    "### Concatenation with \"+\" operator"
   ]
  },
  {
   "cell_type": "code",
   "execution_count": null,
   "metadata": {},
   "outputs": [],
   "source": [
    "string name = \"John\";\n",
    "string lastName = \"Johnson\";\n",
    "\n",
    "//Concatenation\n",
    "var s = \"Human \" + name + \" \" + lastName;\n",
    "display(s);"
   ]
  },
  {
   "cell_type": "markdown",
   "metadata": {},
   "source": [
    "### Concatenation with String.Format function"
   ]
  },
  {
   "cell_type": "code",
   "execution_count": null,
   "metadata": {},
   "outputs": [],
   "source": [
    "//Format\n",
    "s = String.Format(\"Human {0} {1}\", name, lastName);\n",
    "display(s);"
   ]
  },
  {
   "cell_type": "markdown",
   "metadata": {},
   "source": [
    "### Concatenation using string interpolation"
   ]
  },
  {
   "cell_type": "code",
   "execution_count": null,
   "metadata": {},
   "outputs": [],
   "source": [
    "//Interpolation\n",
    "s = $\"Human {name} {lastName}\";\n",
    "display(s);"
   ]
  },
  {
   "cell_type": "markdown",
   "metadata": {},
   "source": [
    "# String Builder"
   ]
  },
  {
   "cell_type": "code",
   "execution_count": null,
   "metadata": {},
   "outputs": [],
   "source": [
    "var stringBuilder = new StringBuilder();\n",
    "stringBuilder.Append(\"Human \");\n",
    "stringBuilder.Append(name);\n",
    "stringBuilder.Append(\" \");\n",
    "stringBuilder.Append(lastName);\n",
    "var s = stringBuilder.ToString();\n",
    "display(s);"
   ]
  },
  {
   "cell_type": "markdown",
   "metadata": {},
   "source": [
    "## Benchmarking"
   ]
  },
  {
   "cell_type": "code",
   "execution_count": null,
   "metadata": {},
   "outputs": [],
   "source": [
    "#r \"nuget:BenchmarkDotNet\"\n",
    "using BenchmarkDotNet.Attributes;\n",
    "using BenchmarkDotNet.Running;\n",
    "using BenchmarkDotNet.Validators;\n",
    "using BenchmarkDotNet.Configs;\n",
    "\n",
    "public class AllowNonOptimized : ManualConfig\n",
    "{\n",
    "    public AllowNonOptimized()\n",
    "    {\n",
    "        Add(JitOptimizationsValidator.DontFailOnError); // ALLOW NON-OPTIMIZED DLLS\n",
    "\n",
    "        Add(DefaultConfig.Instance.GetLoggers().ToArray()); // manual config has no loggers by default\n",
    "        Add(DefaultConfig.Instance.GetExporters().ToArray()); // manual config has no exporters by default\n",
    "        Add(DefaultConfig.Instance.GetColumnProviders().ToArray()); // manual config has no columns by default\n",
    "    }\n",
    "}\n",
    "\n",
    "public class StringTests\n",
    "{\n",
    "    [Params(2, 10, 100, 1_000, 10_000)]\n",
    "    public int ConcatCount { get; set; }\n",
    "\n",
    "    [Benchmark]\n",
    "    public void AsString()\n",
    "    {\n",
    "        var s = \"\";\n",
    "        for (int i = 0; i < ConcatCount; i++)\n",
    "        {\n",
    "            s += \"0\";\n",
    "        }\n",
    "        int len = s.Length;\n",
    "    }\n",
    "\n",
    "    [Benchmark]\n",
    "    public void AsStringBuilder()\n",
    "    {\n",
    "        var sb = new StringBuilder();\n",
    "        for (int i = 0; i < ConcatCount; i++)\n",
    "        {\n",
    "            sb.Append(\"0\");\n",
    "        }\n",
    "        var s = sb.ToString();\n",
    "        int len = s.Length;\n",
    "    }\n",
    "}\n",
    "\n",
    "var r = BenchmarkRunner.Run<StringTests>(new AllowNonOptimized());"
   ]
  },
  {
   "cell_type": "code",
   "execution_count": null,
   "metadata": {
    "dotnet_interactive": {
     "language": "pwsh"
    },
    "polyglot_notebook": {
     "kernelName": "pwsh"
    }
   },
   "outputs": [],
   "source": [
    "cd ..\n",
    "dotnet run -c Release --project \".\\StringBenchmark\\StringBenchmark\\StringBenchmark.csproj\""
   ]
  },
  {
   "cell_type": "markdown",
   "metadata": {},
   "source": [
    "|          Method | ConcatCount |                  Mean |                Error |                StdDev |\n",
    "|---------------- |------------ |----------------------:|---------------------:|----------------------:|\n",
    "|        AsString |           2 |              29.14 ns |             0.346 ns |              0.324 ns |\n",
    "| AsStringBuilder |           2 |              51.63 ns |             1.057 ns |              1.646 ns |\n",
    "|        AsString |          10 |             226.27 ns |             2.469 ns |              2.309 ns |\n",
    "| AsStringBuilder |          10 |              98.87 ns |             1.564 ns |              1.463 ns |\n",
    "|        AsString |         100 |           3,972.55 ns |            68.627 ns |             64.194 ns |\n",
    "| AsStringBuilder |         100 |             903.80 ns |             5.574 ns |              4.941 ns |\n",
    "|        AsString |        1000 |         186,659.79 ns |         3,698.614 ns |         10,248.842 ns |\n",
    "| AsStringBuilder |        1000 |           6,855.54 ns |            27.775 ns |             25.981 ns |\n",
    "|        AsString |       10000 |      16,668,151.62 ns |       338,644.763 ns |        998,501.723 ns |\n",
    "| AsStringBuilder |       10000 |          65,286.67 ns |           854.459 ns |            799.262 ns |\n",
    "|        AsString |      100000 |   1,841,048,672.22 ns |    34,370,374.038 ns |     36,775,915.148 ns |\n",
    "| AsStringBuilder |      100000 |         763,640.93 ns |         6,998.175 ns |          6,546.097 ns |\n",
    "|        AsString |      200000 |   8,668,458,921.43 ns |    90,338,208.965 ns |     80,082,469.212 ns |\n",
    "| AsStringBuilder |      200000 |       1,520,557.38 ns |        21,412.503 ns |         20,029.269 ns |\n",
    "|        AsString |      300000 |  22,151,508,566.67 ns |   127,186,609.624 ns |    118,970,433.555 ns |\n",
    "| AsStringBuilder |      300000 |       2,406,683.74 ns |        32,016.905 ns |         29,948.633 ns |\n",
    "|        AsString |      400000 |  44,239,252,650.00 ns |   350,895,219.246 ns |    273,955,906.281 ns |\n",
    "| AsStringBuilder |      400000 |       3,034,966.69 ns |         9,889.009 ns |          9,250.185 ns |\n",
    "|        AsString |      500000 |  77,294,167,664.29 ns |   159,666,947.648 ns |    141,540,590.251 ns |\n",
    "| AsStringBuilder |      500000 |       3,788,364.56 ns |        25,054.498 ns |         23,435.993 ns |\n",
    "|        AsString |      750000 | 212,266,399,600.00 ns | 4,189,457,499.732 ns |  4,114,607,445.152 ns |\n",
    "| AsStringBuilder |      750000 |       5,103,197.19 ns |        49,597.841 ns |         46,393.852 ns |\n",
    "|        AsString |     1000000 | 467,328,417,600.00 ns | 9,237,886,941.572 ns | 15,934,901,088.628 ns |\n",
    "| AsStringBuilder |     1000000 |       6,895,745.59 ns |        31,462.324 ns |         27,890.531 ns |"
   ]
  },
  {
   "cell_type": "markdown",
   "metadata": {},
   "source": [
    "| ConcatCount |  Run Time                         |\n",
    "|-------------|----------------------------------:|\n",
    "|           2 | Run time: 00:02:02 (122.66 sec)   |\n",
    "|          10 | Run time: 00:02:25 (145.88 sec)   |\n",
    "|         100 | Run time: 00:02:45 (165.55 sec)   |\n",
    "|        1000 | Run time: 00:02:46 (166.2 sec)    |\n",
    "|       10000 | Run time: 00:02:45 (165.36 sec)   |\n",
    "|      100000 | Run time: 00:02:40 (160.43 sec)   |\n",
    "|      200000 | Run time: 00:04:43 (283.07 sec)   |\n",
    "|      300000 | Run time: 00:09:43 (583.97 sec)   |\n",
    "|      400000 | Run time: 00:18:21 (1101.85 sec)  |\n",
    "|      500000 | Run time: 00:29:32 (1772.88 sec)  |\n",
    "|      750000 | Run time: 01:31:02 (5462.2 sec)   |\n",
    "|     1000000 | Run time: 05:59:07 (21547.96 sec) |"
   ]
  },
  {
   "cell_type": "markdown",
   "metadata": {},
   "source": [
    "![StringVsBuilderLog](media/StringVsBuilderLog.png)"
   ]
  },
  {
   "cell_type": "markdown",
   "metadata": {},
   "source": [
    "![StringVsBuilder](media/StringVsBuilder.png)"
   ]
  }
 ],
 "metadata": {
  "kernelspec": {
   "display_name": ".NET (C#)",
   "language": "C#",
   "name": ".net-csharp"
  },
  "polyglot_notebook": {
   "kernelInfo": {
    "defaultKernelName": "csharp",
    "items": [
     {
      "aliases": [],
      "languageName": "csharp",
      "name": "csharp"
     }
    ]
   }
  }
 },
 "nbformat": 4,
 "nbformat_minor": 2
}
