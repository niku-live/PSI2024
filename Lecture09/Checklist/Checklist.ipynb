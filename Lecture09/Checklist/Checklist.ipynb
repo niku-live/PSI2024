{
 "cells": [
  {
   "cell_type": "markdown",
   "metadata": {},
   "source": [
    "# Deadline 2 - Checklist"
   ]
  },
  {
   "cell_type": "markdown",
   "metadata": {},
   "source": [
    "Deadline is at 2024-11-21 20:00 EEST\n",
    "\n",
    "- Maximum points if completed by deadline: **1.5**\n",
    "- Maximum points if completed by 2024-11-14: **1.5 + 0.075**\n",
    "- Maximum points if completed by 2024-11-07: **1.5 + 0.15**"
   ]
  },
  {
   "cell_type": "markdown",
   "metadata": {},
   "source": [
    "## Presentation"
   ]
  },
  {
   "cell_type": "markdown",
   "metadata": {},
   "source": [
    "- You prepared an actual presentation (slides + working app demo) and are ready to present it loud before every other team.\n",
    "- This is \"pitch\" type presentation, slides should \"sell product to potential investor\". Slides can contain information about code\n",
    "- Every team member can present by himself about tasks he did. It is expected that after presentation (or during presentation) every team member will talk.\n",
    "- You can present in your code every implemented requirement."
   ]
  },
  {
   "cell_type": "markdown",
   "metadata": {},
   "source": [
    "## Goals"
   ]
  },
  {
   "cell_type": "markdown",
   "metadata": {},
   "source": [
    "### Official goal: continue developing an app while working in groups while using material covered in 7-10 lectures."
   ]
  },
  {
   "cell_type": "markdown",
   "metadata": {},
   "source": [
    "- You have a **working** (beta) version of your app.\n",
    "- It is a web-based application which:\n",
    "  - Has functional UI (front-end)\n",
    "  - Has API (back-end)\n",
    "  - Front-end has calls to API and they are meaninful.\n",
    "  - API is implemented in C#\n",
    "  - UI can be implemented in C# or well-known Javascript/Typescript framework\n",
    "  - Code distribution between Front-end and back-end is around 50/50.\n",
    "- You worked as a team.\n",
    "- You have cooperation proofs (code, commit, pull requests, working app, UI design pictures and etc.)\n",
    "- Your app implementation uses material from 7-10 lectures.\n",
    "- **Every** team member knows and understands material covered in 7-10 lectures.\n",
    "- Beta version is almost complete product, so all functions must be functional and usable.\n",
    "- Beta version should be more polished that alpha version and should have some visible improvements."
   ]
  },
  {
   "cell_type": "markdown",
   "metadata": {},
   "source": [
    "### Unofficial goal: start using database and testing the project. Deepen the functionality of application while being creative."
   ]
  },
  {
   "cell_type": "markdown",
   "metadata": {},
   "source": [
    "- Your app are using real database.\n",
    "- Your app has automated test running, you can show testing result during presentation.\n",
    "- Beta version is almost complete product, so all functions must be functional and usable.\n",
    "- You have a GitHub repository (and I have access to it)\n",
    "- Your teamwork is represented in your repository (commits from all team members, pull requests and other cooperation proofs)\n",
    "- You worked using pull requests, your team members commented on your PR (and a least some of the comments required changes, not just \"looks good\" type of comments), no direct changes on main/master branch.\n",
    "- **Every** team member used git, made commits, created pull requests, commented on pull requests."
   ]
  },
  {
   "cell_type": "markdown",
   "metadata": {},
   "source": [
    "## Requirements"
   ]
  },
  {
   "cell_type": "markdown",
   "metadata": {},
   "source": [
    "### Relational database and Entity Framework is used for storing all the data"
   ]
  },
  {
   "cell_type": "markdown",
   "metadata": {},
   "source": [
    "- Application uses real database.\n",
    "- Entity Framework Core is used as a backing library to work with database.\n",
    "- **Every** team member can point in your code where database is used.\n",
    "- **Every** team member knows differences between code-first, database-first and model-first approaches.\n",
    "- **Every** team member knows how to use Entity Framework.\n",
    "- **Every** team member knows both EF configuration methods: Attributes and Fluent API."
   ]
  },
  {
   "cell_type": "markdown",
   "metadata": {},
   "source": [
    "### Create a generic type with generic method; define at least 2 generic constraints"
   ]
  },
  {
   "cell_type": "markdown",
   "metadata": {},
   "source": [
    "- Your app contains at least one **meaningfully** used your own (non-standard) generic type.\n",
    "- Your app contains at least one **meaningfully** used your own (non-standard) generic method (inside your generic type).\n",
    "- Your app contains at least one **meaningfully** used your own generic constraints.\n",
    "- **Every** team member can point in your code where generic type, generic method and generic constraints are used.\n",
    "- **Every** team member knows what is generic type, method, constraint.\n",
    "- **Every** team member knows how to create generic type, use generic method."
   ]
  },
  {
   "cell_type": "markdown",
   "metadata": {},
   "source": [
    "### Create at least 1 exception type and throw it; meaningfully deal with it; (most of the exceptions are logged to a file or a server)"
   ]
  },
  {
   "cell_type": "markdown",
   "metadata": {},
   "source": [
    "- Your app contains at least one **meaningfully** used your own (non-standard) exception.\n",
    "- Your app contains at least one **meaningfully** place where you catch your custom exception and deal with it.\n",
    "- **Every** team member can point in your code where custom exception is declared and where catching happens."
   ]
  },
  {
   "cell_type": "markdown",
   "metadata": {},
   "source": [
    "### Usage of async/await"
   ]
  },
  {
   "cell_type": "markdown",
   "metadata": {},
   "source": [
    "- Your app contains at least one async method (your own, not standard) that are used somewhere in your application **meaningfully**.\n",
    "- Your app contains at least one place where await operator is used **meaningfully**.\n",
    "- **Every** team member can point in your code where async and await are used.\n",
    "- **Every** team member knows how to use await/async"
   ]
  },
  {
   "cell_type": "markdown",
   "metadata": {},
   "source": [
    "### Use at least 1 concurrent collection"
   ]
  },
  {
   "cell_type": "markdown",
   "metadata": {},
   "source": [
    "- Your app contains at least one place where concurrent collection is used **meaningfully**. **Meaninful** is this context means that **concurrency protection** is really needed (e.g. at least two threads try accessing this collection at once) and concurrent collection cannot be replaced by simple collection.\n",
    "- **Every** team member can point in your code where concurrent collection is used.\n",
    "- **Every** team member knows differences between simple and concurrent collections, knows which standard collections are concurrent and which are not."
   ]
  },
  {
   "cell_type": "markdown",
   "metadata": {},
   "source": [
    "### Dependency Injection is used everywhere where reasonable"
   ]
  },
  {
   "cell_type": "markdown",
   "metadata": {},
   "source": [
    "- Dependency Injection is used in your application.\n",
    "- Dependency Injection is used in a standard .NET way (you should not implement your own dependency injection engine).\n",
    "- Usage of \"new\" operator is minimal (only is tests and very short lived objects).\n",
    "- **Every** team member knows how Dependency Injection is used in your application.\n",
    "- **Every** team member knows what is Dependency Injection, Inversion of Control (IoC)"
   ]
  },
  {
   "cell_type": "markdown",
   "metadata": {},
   "source": [
    "### Unit and integration tests coverage at least 50%"
   ]
  },
  {
   "cell_type": "markdown",
   "metadata": {},
   "source": [
    "- Your application contains unit tests\n",
    "- Your application contains integration tests\n",
    "- Total code coverage (front-end + back-end) is at least 50%\n",
    "- You can show test completing successfully during presentation\n",
    "- You can show that code coverage is really >= 50\n",
    "- **Every** team member knows where are tests in your application.\n",
    "- **Every** team member knows differences between unit and integration tests"
   ]
  }
 ],
 "metadata": {
  "kernelspec": {
   "display_name": ".NET (C#)",
   "language": "C#",
   "name": ".net-csharp"
  },
  "polyglot_notebook": {
   "kernelInfo": {
    "defaultKernelName": "csharp",
    "items": [
     {
      "aliases": [],
      "languageName": "csharp",
      "name": "csharp"
     }
    ]
   }
  }
 },
 "nbformat": 4,
 "nbformat_minor": 2
}
